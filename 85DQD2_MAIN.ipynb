{
  "cells": [
    {
      "cell_type": "markdown",
      "metadata": {
        "colab_type": "text",
        "id": "view-in-github"
      },
      "source": [
        "<a href=\"https://colab.research.google.com/github/MohitDhungana/duplicate_question_detection/blob/master/85DQD2.ipynb\" target=\"_parent\"><img src=\"https://colab.research.google.com/assets/colab-badge.svg\" alt=\"Open In Colab\"/></a>"
      ]
    },
    {
      "cell_type": "code",
      "execution_count": 2,
      "metadata": {
        "colab": {
          "base_uri": "https://localhost:8080/",
          "height": 68
        },
        "colab_type": "code",
        "id": "aZlxkvW__7mI",
        "outputId": "0b3ca8c8-781b-4204-d449-372b827fb1f4"
      },
      "outputs": [
        {
          "name": "stdout",
          "output_type": "stream",
          "text": [
            "[nltk_data] Downloading package stopwords to /root/nltk_data...\n",
            "[nltk_data]   Package stopwords is already up-to-date!\n",
            "Mounted at /content/drive\n"
          ]
        }
      ],
      "source": [
        "#this is modification on checkointed file\n",
        "\n",
        "from time import time\n",
        "import pandas as pd\n",
        "import numpy as np\n",
        "from gensim.models import KeyedVectors\n",
        "import re\n",
        "import nltk\n",
        "from nltk.corpus import stopwords\n",
        "\n",
        "nltk.download('stopwords')\n",
        "\n",
        "import itertools\n",
        "import datetime\n",
        "\n",
        "\n",
        "from google.colab import drive\n",
        "drive.mount('/content/drive', force_remount=True)"
      ]
    },
    {
      "cell_type": "code",
      "execution_count": null,
      "metadata": {
        "colab": {},
        "colab_type": "code",
        "id": "Buo1g7MTeEzO"
      },
      "outputs": [],
      "source": []
    },
    {
      "cell_type": "code",
      "execution_count": null,
      "metadata": {
        "colab": {},
        "colab_type": "code",
        "id": "uVvNDvPLBLDX"
      },
      "outputs": [],
      "source": [
        "df = pd.read_csv('/content/drive/My Drive/Major/train.csv')\n",
        "stops = set(stopwords.words('english'))\n",
        "\n",
        "def text_to_word_list(text):\n",
        "#   gets a whole question inside text variable on which  preprocessing is done and then the question is splitted into word indices and returned\n",
        "    text = str(text)\n",
        "    text = text.lower()\n",
        "\n",
        "    # Clean the text\n",
        "    text = re.sub(r\"[^A-Za-z0-9^,!.\\/'+-=]\", \" \", text)\n",
        "    text = re.sub(r\"what's\", \"what is \", text)\n",
        "    text = re.sub(r\"\\'s\", \" \", text)\n",
        "    text = re.sub(r\"\\'ve\", \" have \", text)\n",
        "    text = re.sub(r\"can't\", \"cannot \", text)\n",
        "    text = re.sub(r\"n't\", \" not \", text)\n",
        "    text = re.sub(r\"i'm\", \"i am \", text)\n",
        "    text = re.sub(r\"\\'re\", \" are \", text)\n",
        "    text = re.sub(r\"\\'d\", \" would \", text)\n",
        "    text = re.sub(r\"\\'ll\", \" will \", text)\n",
        "    text = re.sub(r\",\", \" \", text)\n",
        "    text = re.sub(r\"\\.\", \" \", text)\n",
        "    text = re.sub(r\"!\", \" ! \", text)\n",
        "    text = re.sub(r\"\\/\", \" \", text)\n",
        "    text = re.sub(r\"\\^\", \" ^ \", text)\n",
        "    text = re.sub(r\"\\+\", \" + \", text)\n",
        "    text = re.sub(r\"\\-\", \" - \", text)\n",
        "    text = re.sub(r\"\\=\", \" = \", text)\n",
        "    text = re.sub(r\"'\", \" \", text)\n",
        "    text = re.sub(r\"(\\d+)(k)\", r\"\\g<1>000\", text)\n",
        "    text = re.sub(r\":\", \" : \", text)\n",
        "    text = re.sub(r\" e g \", \" eg \", text)\n",
        "    text = re.sub(r\" b g \", \" bg \", text)\n",
        "    text = re.sub(r\" u s \", \" american \", text)\n",
        "    text = re.sub(r\"\\0s\", \"0\", text)\n",
        "    text = re.sub(r\" 9 11 \", \"911\", text)\n",
        "    text = re.sub(r\"e - mail\", \"email\", text)\n",
        "    text = re.sub(r\"j k\", \"jk\", text)\n",
        "    text = re.sub(r\"\\s{2,}\", \" \", text)\n",
        "\n",
        "    text = text.split()\n",
        "\n",
        "    return text\n"
      ]
    },
    {
      "cell_type": "code",
      "execution_count": null,
      "metadata": {
        "colab": {},
        "colab_type": "code",
        "id": "v6YQyhoHwdAf"
      },
      "outputs": [],
      "source": [
        "vocabulary = dict() \n",
        "inverse_vocabulary = ['<unk>']"
      ]
    },
    {
      "cell_type": "code",
      "execution_count": 8,
      "metadata": {
        "colab": {
          "base_uri": "https://localhost:8080/",
          "height": 88
        },
        "colab_type": "code",
        "id": "bfmvHK6CBb2v",
        "outputId": "ad5062d2-7ebb-4a1c-c6e6-f87aaaa98cd5"
      },
      "outputs": [
        {
          "name": "stderr",
          "output_type": "stream",
          "text": [
            "/usr/local/lib/python3.6/dist-packages/smart_open/smart_open_lib.py:398: UserWarning: This function is deprecated, use smart_open.open instead. See the migration notes for details: https://github.com/RaRe-Technologies/smart_open/blob/master/README.rst#migrating-to-the-new-open-function\n",
            "  'See the migration notes for details: %s' % _MIGRATION_NOTES_URL\n",
            "/usr/local/lib/python3.6/dist-packages/ipykernel_launcher.py:40: FutureWarning: set_value is deprecated and will be removed in a future release. Please use .at[] or .iat[] accessors instead\n"
          ]
        }
      ],
      "source": [
        "# Prepare embedding\n",
        "\n",
        "  # '<unk>' will never be used, it is only a placeholder for the [0, 0, ....0] embedding\n",
        "word2vec = KeyedVectors.load_word2vec_format('/content/drive/My Drive/Datasets/GoogleNews-vectors-negative300.bin.gz', binary=True)\n",
        "\n",
        "questions_cols = ['question1', 'question2']\n",
        "\n",
        "# Iterate over the questions(i.e. 'question 1', 'question2') of the training sets provided \n",
        "# get the data from dataset(df) in  variable dataset\n",
        "for dataset in [df]:\n",
        "#   now iterate through the rows of the dataset using  index as iterator (i.e. goes through the row having particular index at a time) \n",
        "    for index, row in dataset.iterrows():\n",
        "\n",
        "        # Iterate through the text of both questions within the current  row\n",
        "        for question in questions_cols:\n",
        "            que2no = []  # que2no ->  numbers representation of the cureently being processed question\n",
        "            \n",
        "            count_ = 0\n",
        "\n",
        "            for word in text_to_word_list(row[question]):\n",
        "\n",
        "                # Check for unwanted words i.e mainly stopwords\n",
        "                if word in stops and word not in word2vec.vocab:\n",
        "                    continue\n",
        "                    \n",
        "#                 limit the length to 50, this decreased the time to train an epoch from more than 1 hour to 20 minutes.\n",
        "                if count_ >= 50 :\n",
        "                  continue\n",
        "                count_ +=1\n",
        "                \n",
        "                \n",
        "                if word not in vocabulary:\n",
        "                    vocabulary[word] = len(inverse_vocabulary)\n",
        "                    que2no.append(len(inverse_vocabulary))\n",
        "                    inverse_vocabulary.append(word)\n",
        "                else:\n",
        "                    que2no.append(vocabulary[word])\n",
        "#                     que2no.append(float(vocabulary[word]))\n",
        "\n",
        "#                 que2no=list(map(int,que2no))\n",
        "\n",
        "            # Replace questions as word to question as number representation\n",
        "            dataset.set_value(index, question, que2no)"
      ]
    },
    {
      "cell_type": "code",
      "execution_count": 9,
      "metadata": {
        "colab": {
          "base_uri": "https://localhost:8080/",
          "height": 204
        },
        "colab_type": "code",
        "id": "gPG__4vqCFNI",
        "outputId": "02b894e3-86f9-43b3-d0ef-06cd145a9264"
      },
      "outputs": [
        {
          "data": {
            "text/html": [
              "<div>\n",
              "<style scoped>\n",
              "    .dataframe tbody tr th:only-of-type {\n",
              "        vertical-align: middle;\n",
              "    }\n",
              "\n",
              "    .dataframe tbody tr th {\n",
              "        vertical-align: top;\n",
              "    }\n",
              "\n",
              "    .dataframe thead th {\n",
              "        text-align: right;\n",
              "    }\n",
              "</style>\n",
              "<table border=\"1\" class=\"dataframe\">\n",
              "  <thead>\n",
              "    <tr style=\"text-align: right;\">\n",
              "      <th></th>\n",
              "      <th>id</th>\n",
              "      <th>qid1</th>\n",
              "      <th>qid2</th>\n",
              "      <th>question1</th>\n",
              "      <th>question2</th>\n",
              "      <th>is_duplicate</th>\n",
              "    </tr>\n",
              "  </thead>\n",
              "  <tbody>\n",
              "    <tr>\n",
              "      <th>404285</th>\n",
              "      <td>404285</td>\n",
              "      <td>433578</td>\n",
              "      <td>379845</td>\n",
              "      <td>[26, 184, 3632, 115, 307, 8, 3, 24585, 522, 52...</td>\n",
              "      <td>[26, 184, 3632, 115, 307, 8, 12032, 522, 523, ...</td>\n",
              "      <td>0</td>\n",
              "    </tr>\n",
              "    <tr>\n",
              "      <th>404286</th>\n",
              "      <td>404286</td>\n",
              "      <td>18840</td>\n",
              "      <td>155606</td>\n",
              "      <td>[97, 99, 2441, 307, 2, 598, 180, 1822]</td>\n",
              "      <td>[2, 47, 467, 77, 307, 2, 598, 180, 1822]</td>\n",
              "      <td>1</td>\n",
              "    </tr>\n",
              "    <tr>\n",
              "      <th>404287</th>\n",
              "      <td>404287</td>\n",
              "      <td>537928</td>\n",
              "      <td>537929</td>\n",
              "      <td>[1, 2, 57, 11012]</td>\n",
              "      <td>[1, 2, 83, 11012]</td>\n",
              "      <td>0</td>\n",
              "    </tr>\n",
              "    <tr>\n",
              "      <th>404288</th>\n",
              "      <td>404288</td>\n",
              "      <td>537930</td>\n",
              "      <td>537931</td>\n",
              "      <td>[1, 2, 3, 21205, 12587, 534, 2769, 33, 3114, 8...</td>\n",
              "      <td>[16, 42, 1086, 2877, 2854, 2622, 1220, 16, 173...</td>\n",
              "      <td>0</td>\n",
              "    </tr>\n",
              "    <tr>\n",
              "      <th>404289</th>\n",
              "      <td>404289</td>\n",
              "      <td>537932</td>\n",
              "      <td>537933</td>\n",
              "      <td>[1, 2, 139, 401, 2543, 175, 7227]</td>\n",
              "      <td>[1, 2, 47, 139, 401, 2543, 175, 135, 7227]</td>\n",
              "      <td>0</td>\n",
              "    </tr>\n",
              "  </tbody>\n",
              "</table>\n",
              "</div>"
            ],
            "text/plain": [
              "            id  ...  is_duplicate\n",
              "404285  404285  ...             0\n",
              "404286  404286  ...             1\n",
              "404287  404287  ...             0\n",
              "404288  404288  ...             0\n",
              "404289  404289  ...             0\n",
              "\n",
              "[5 rows x 6 columns]"
            ]
          },
          "execution_count": 9,
          "metadata": {
            "tags": []
          },
          "output_type": "execute_result"
        }
      ],
      "source": [
        "# max_sequence_length=50\n",
        "max_seq_length = max(df.question1.map(lambda x: len(x)).max(),\n",
        "                     df.question2.map(lambda x: len(x)).max()\n",
        "                    )\n",
        "# max_seq_length\n",
        "df.tail()"
      ]
    },
    {
      "cell_type": "code",
      "execution_count": null,
      "metadata": {
        "colab": {},
        "colab_type": "code",
        "id": "YS30hxt_OvzY"
      },
      "outputs": [],
      "source": [
        "embedding_dim = 300\n",
        "# creating an embedding matrix whose length is one more than vocabulary and dimension is 300\n",
        "embedding_matrix = 1 * np.random.randn(len(vocabulary) + 1, embedding_dim)  \n",
        "embedding_matrix[0] = 0  # So that the zeroth place remain empty \n",
        "\n",
        "# (Build the embedding matrix) Assigning the word2vec embedding for each words of our vocabulary  \n",
        "for word, index in vocabulary.items():\n",
        "    if word in word2vec.vocab:\n",
        "        embedding_matrix[index] = word2vec.word_vec(word)"
      ]
    },
    {
      "cell_type": "code",
      "execution_count": null,
      "metadata": {
        "colab": {},
        "colab_type": "code",
        "id": "zS7KaJt3O2R8"
      },
      "outputs": [],
      "source": [
        "del word2vec\n"
      ]
    },
    {
      "cell_type": "code",
      "execution_count": 12,
      "metadata": {
        "colab": {
          "base_uri": "https://localhost:8080/",
          "height": 85
        },
        "colab_type": "code",
        "id": "iyQX5TXOPQYO",
        "outputId": "793c80eb-6873-41a1-c840-563c5b2a6c68"
      },
      "outputs": [
        {
          "name": "stdout",
          "output_type": "stream",
          "text": [
            "(283003, 2)\n",
            "(121287, 2)\n",
            "(283003,)\n",
            "(121287,)\n"
          ]
        }
      ],
      "source": [
        "from sklearn.model_selection import train_test_split\n",
        "\n",
        "\n",
        "X=df[questions_cols]\n",
        "Y=df['is_duplicate']\n",
        "\n",
        "\n",
        "x_train,x_validate,y_train,y_validate = train_test_split(X, Y, test_size = 0.3) # dataset split to 70% for training and 30% for validation\n",
        "\n",
        "print(x_train.shape)\n",
        "print(x_validate.shape)\n",
        "print(y_train.shape)\n",
        "print(y_validate.shape)\n",
        "                 \n",
        "# Split to dicts\n",
        "x_train = {'left': x_train.question1, 'right': x_train.question2}\n",
        "x_validate = {'left': x_validate.question1, 'right': x_validate.question2}\n",
        "\n",
        "# Convert labels to their numpy representations\n",
        "y_train=y_train.values\n",
        "y_validate=y_validate.values\n",
        "\n"
      ]
    },
    {
      "cell_type": "code",
      "execution_count": null,
      "metadata": {
        "colab": {},
        "colab_type": "code",
        "id": "jZc4-nnYP-dL"
      },
      "outputs": [],
      "source": [
        "from tensorflow.keras.preprocessing.sequence import pad_sequences\n",
        "\n",
        "# zero padding\n",
        "\n",
        "for dataset, side in itertools.product([x_train,x_validate],['left','right']):\n",
        "  dataset[side] = pad_sequences(dataset[side], maxlen = max_seq_length)"
      ]
    },
    {
      "cell_type": "code",
      "execution_count": 14,
      "metadata": {
        "colab": {
          "base_uri": "https://localhost:8080/",
          "height": 51
        },
        "colab_type": "code",
        "id": "RgUMIIWPQ3zc",
        "outputId": "fec89be8-7baf-4900-9f2e-bfbd9d158247"
      },
      "outputs": [
        {
          "name": "stdout",
          "output_type": "stream",
          "text": [
            "(283003, 50)\n",
            "(121287, 50)\n"
          ]
        }
      ],
      "source": [
        "# print(df['question1'][0])\n",
        "\n",
        "# print(dataset)\n",
        "print(x_train['left'].shape)\n",
        "# print(x_train['left'])\n",
        "print(x_validate['left'].shape)"
      ]
    },
    {
      "cell_type": "code",
      "execution_count": null,
      "metadata": {
        "colab": {},
        "colab_type": "code",
        "id": "OhNvzgKuQ_nY"
      },
      "outputs": [],
      "source": [
        "# check to see if shape of left and right input is same\n",
        "assert x_train['left'].shape == x_train['right'].shape\n",
        "\n",
        "# check to see if shape of input and output is same\n",
        "assert len(x_train['left']) == len(y_train)"
      ]
    },
    {
      "cell_type": "code",
      "execution_count": 16,
      "metadata": {
        "colab": {
          "base_uri": "https://localhost:8080/",
          "height": 34
        },
        "colab_type": "code",
        "id": "x7ox-AVGRu60",
        "outputId": "8e400f69-cb8a-4ec6-b1c5-f7b8bb27c2a4"
      },
      "outputs": [
        {
          "data": {
            "text/plain": [
              "(283003, 50)"
            ]
          },
          "execution_count": 16,
          "metadata": {
            "tags": []
          },
          "output_type": "execute_result"
        }
      ],
      "source": [
        "# shape of question1 column (x,y)==(total rows, total words in each question)\n",
        "x_train['left'].shape"
      ]
    },
    {
      "cell_type": "code",
      "execution_count": null,
      "metadata": {
        "colab": {},
        "colab_type": "code",
        "id": "rz0P_YedR236"
      },
      "outputs": [],
      "source": [
        "# manhattan distance calculation function\n",
        "import tensorflow.keras.backend as K\n",
        "def manhattan_distance(left,right):\n",
        "  return K.exp(-K.sum(K.abs(left-right),axis=1, keepdims=True))"
      ]
    },
    {
      "cell_type": "code",
      "execution_count": 23,
      "metadata": {
        "colab": {
          "base_uri": "https://localhost:8080/",
          "height": 391
        },
        "colab_type": "code",
        "id": "2vdeYPxYTicf",
        "outputId": "6511511e-b9b3-4921-d9f2-18ba015bd204"
      },
      "outputs": [
        {
          "name": "stdout",
          "output_type": "stream",
          "text": [
            "Model: \"model_1\"\n",
            "__________________________________________________________________________________________________\n",
            "Layer (type)                    Output Shape         Param #     Connected to                     \n",
            "==================================================================================================\n",
            "left_input (InputLayer)         [(None, 50)]         0                                            \n",
            "__________________________________________________________________________________________________\n",
            "right_input (InputLayer)        [(None, 50)]         0                                            \n",
            "__________________________________________________________________________________________________\n",
            "embedding_layer (Embedding)     (None, 50, 300)      25796400    left_input[0][0]                 \n",
            "                                                                 right_input[0][0]                \n",
            "__________________________________________________________________________________________________\n",
            "bidirectional_1 (Bidirectional) (None, 30)           38040       embedding_layer[0][0]            \n",
            "                                                                 embedding_layer[1][0]            \n",
            "__________________________________________________________________________________________________\n",
            "lambda_1 (Lambda)               (None, 1)            0           bidirectional_1[0][0]            \n",
            "                                                                 bidirectional_1[1][0]            \n",
            "==================================================================================================\n",
            "Total params: 25,834,440\n",
            "Trainable params: 38,040\n",
            "Non-trainable params: 25,796,400\n",
            "__________________________________________________________________________________________________\n",
            "None\n"
          ]
        }
      ],
      "source": [
        "import tensorflow as tf\n",
        "from tensorflow.keras.layers import Input, Embedding, LSTM, Lambda, CuDNNLSTM,Bidirectional\n",
        "\n",
        "n_hidden = 15\n",
        "n_epochs=60\n",
        "gradient_clipping_norm  = 1.25\n",
        "\n",
        "# input layer\n",
        "#recheck shape before training\n",
        "left_input = Input(shape = (max_seq_length,), dtype='int32',name = 'left_input')\n",
        "right_input = Input(shape = (max_seq_length,), dtype='int32', name = 'right_input')\n",
        "\n",
        "\n",
        "\n",
        "# embedding layer\n",
        "# recheck dims \n",
        "embedding_layer = Embedding(input_dim = len(embedding_matrix), output_dim = embedding_dim, input_length = max_seq_length, weights=[embedding_matrix], trainable=False, name = 'embedding_layer')\n",
        "\n",
        "encoded_left = embedding_layer(left_input)\n",
        "encoded_right = embedding_layer(right_input)\n",
        "\n",
        "\n",
        "\n",
        "#LSTM instantiation\n",
        "# check parameter for LSTM.\n",
        "\n",
        "shared_lstm = Bidirectional(CuDNNLSTM(n_hidden, name = 'LSTM_layer'))\n",
        "\n",
        "# shared LSTM\n",
        "left_output = shared_lstm(encoded_left)\n",
        "right_output = shared_lstm(encoded_right)\n",
        "\n",
        "\n",
        "\n",
        "\n",
        "# TODO: check output shape of the output lambda layer\n",
        "# output layer\n",
        "output_layer = Lambda(function = lambda x : manhattan_distance(x[0], x[1]),output_shape=lambda x: (x[0][0],1))([left_output, right_output])\n",
        "\n",
        "\n",
        "\n",
        "# define above model\n",
        "model = tf.keras.Model(inputs=[left_input, right_input], outputs=output_layer)\n",
        "\n",
        "# summary of model\n",
        "print(model.summary())"
      ]
    },
    {
      "cell_type": "code",
      "execution_count": 24,
      "metadata": {
        "colab": {
          "base_uri": "https://localhost:8080/",
          "height": 1000
        },
        "colab_type": "code",
        "id": "Nt8OV8UpU-Yg",
        "outputId": "d9e35ea2-b497-4e00-a964-df34dd82d1e8"
      },
      "outputs": [
        {
          "name": "stdout",
          "output_type": "stream",
          "text": [
            "Train on 226402 samples, validate on 56601 samples\n",
            "Epoch 1/60\n",
            "226304/226402 [============================>.] - ETA: 0s - loss: 0.1722 - acc: 0.7438\n",
            "Epoch 00001: val_loss improved from inf to 0.16104, saving model to /content/drive/My Drive/Major/dqd2_model_weights.h5\n",
            "226402/226402 [==============================] - 60s 264us/sample - loss: 0.1722 - acc: 0.7438 - val_loss: 0.1610 - val_acc: 0.7669\n",
            "Epoch 2/60\n",
            "226304/226402 [============================>.] - ETA: 0s - loss: 0.1548 - acc: 0.7768\n",
            "Epoch 00002: val_loss improved from 0.16104 to 0.15304, saving model to /content/drive/My Drive/Major/dqd2_model_weights.h5\n",
            "226402/226402 [==============================] - 58s 257us/sample - loss: 0.1548 - acc: 0.7768 - val_loss: 0.1530 - val_acc: 0.7803\n",
            "Epoch 3/60\n",
            "226368/226402 [============================>.] - ETA: 0s - loss: 0.1481 - acc: 0.7898\n",
            "Epoch 00003: val_loss improved from 0.15304 to 0.15044, saving model to /content/drive/My Drive/Major/dqd2_model_weights.h5\n",
            "226402/226402 [==============================] - 59s 259us/sample - loss: 0.1481 - acc: 0.7898 - val_loss: 0.1504 - val_acc: 0.7819\n",
            "Epoch 4/60\n",
            "226304/226402 [============================>.] - ETA: 0s - loss: 0.1436 - acc: 0.7989\n",
            "Epoch 00004: val_loss did not improve from 0.15044\n",
            "226402/226402 [==============================] - 57s 251us/sample - loss: 0.1436 - acc: 0.7989 - val_loss: 0.1530 - val_acc: 0.7775\n",
            "Epoch 5/60\n",
            "226176/226402 [============================>.] - ETA: 0s - loss: 0.1403 - acc: 0.8036\n",
            "Epoch 00005: val_loss improved from 0.15044 to 0.14429, saving model to /content/drive/My Drive/Major/dqd2_model_weights.h5\n",
            "226402/226402 [==============================] - 58s 257us/sample - loss: 0.1403 - acc: 0.8036 - val_loss: 0.1443 - val_acc: 0.7934\n",
            "Epoch 6/60\n",
            "226176/226402 [============================>.] - ETA: 0s - loss: 0.1377 - acc: 0.8087\n",
            "Epoch 00006: val_loss improved from 0.14429 to 0.14201, saving model to /content/drive/My Drive/Major/dqd2_model_weights.h5\n",
            "226402/226402 [==============================] - 58s 255us/sample - loss: 0.1377 - acc: 0.8087 - val_loss: 0.1420 - val_acc: 0.8000\n",
            "Epoch 7/60\n",
            "226176/226402 [============================>.] - ETA: 0s - loss: 0.1356 - acc: 0.8121\n",
            "Epoch 00007: val_loss improved from 0.14201 to 0.14136, saving model to /content/drive/My Drive/Major/dqd2_model_weights.h5\n",
            "226402/226402 [==============================] - 58s 255us/sample - loss: 0.1356 - acc: 0.8121 - val_loss: 0.1414 - val_acc: 0.8015\n",
            "Epoch 8/60\n",
            "226240/226402 [============================>.] - ETA: 0s - loss: 0.1338 - acc: 0.8151\n",
            "Epoch 00008: val_loss did not improve from 0.14136\n",
            "226402/226402 [==============================] - 58s 255us/sample - loss: 0.1338 - acc: 0.8152 - val_loss: 0.1420 - val_acc: 0.7968\n",
            "Epoch 9/60\n",
            "226368/226402 [============================>.] - ETA: 0s - loss: 0.1322 - acc: 0.8178\n",
            "Epoch 00009: val_loss improved from 0.14136 to 0.14016, saving model to /content/drive/My Drive/Major/dqd2_model_weights.h5\n",
            "226402/226402 [==============================] - 59s 259us/sample - loss: 0.1322 - acc: 0.8178 - val_loss: 0.1402 - val_acc: 0.8044\n",
            "Epoch 10/60\n",
            "226304/226402 [============================>.] - ETA: 0s - loss: 0.1309 - acc: 0.8204\n",
            "Epoch 00010: val_loss improved from 0.14016 to 0.13955, saving model to /content/drive/My Drive/Major/dqd2_model_weights.h5\n",
            "226402/226402 [==============================] - 59s 261us/sample - loss: 0.1309 - acc: 0.8204 - val_loss: 0.1396 - val_acc: 0.8027\n",
            "Epoch 11/60\n",
            "226240/226402 [============================>.] - ETA: 0s - loss: 0.1296 - acc: 0.8217\n",
            "Epoch 00011: val_loss improved from 0.13955 to 0.13822, saving model to /content/drive/My Drive/Major/dqd2_model_weights.h5\n",
            "226402/226402 [==============================] - 58s 258us/sample - loss: 0.1296 - acc: 0.8217 - val_loss: 0.1382 - val_acc: 0.8038\n",
            "Epoch 12/60\n",
            "226176/226402 [============================>.] - ETA: 0s - loss: 0.1285 - acc: 0.8238\n",
            "Epoch 00012: val_loss improved from 0.13822 to 0.13781, saving model to /content/drive/My Drive/Major/dqd2_model_weights.h5\n",
            "226402/226402 [==============================] - 58s 257us/sample - loss: 0.1285 - acc: 0.8238 - val_loss: 0.1378 - val_acc: 0.8068\n",
            "Epoch 13/60\n",
            "226176/226402 [============================>.] - ETA: 0s - loss: 0.1274 - acc: 0.8258\n",
            "Epoch 00013: val_loss improved from 0.13781 to 0.13725, saving model to /content/drive/My Drive/Major/dqd2_model_weights.h5\n",
            "226402/226402 [==============================] - 58s 257us/sample - loss: 0.1275 - acc: 0.8258 - val_loss: 0.1372 - val_acc: 0.8057\n",
            "Epoch 14/60\n",
            "226240/226402 [============================>.] - ETA: 0s - loss: 0.1265 - acc: 0.8270\n",
            "Epoch 00014: val_loss improved from 0.13725 to 0.13712, saving model to /content/drive/My Drive/Major/dqd2_model_weights.h5\n",
            "226402/226402 [==============================] - 58s 257us/sample - loss: 0.1265 - acc: 0.8270 - val_loss: 0.1371 - val_acc: 0.8057\n",
            "Epoch 15/60\n",
            "226368/226402 [============================>.] - ETA: 0s - loss: 0.1256 - acc: 0.8286\n",
            "Epoch 00015: val_loss did not improve from 0.13712\n",
            "226402/226402 [==============================] - 57s 252us/sample - loss: 0.1256 - acc: 0.8286 - val_loss: 0.1385 - val_acc: 0.8030\n",
            "Epoch 16/60\n",
            "226304/226402 [============================>.] - ETA: 0s - loss: 0.1247 - acc: 0.8301\n",
            "Epoch 00016: val_loss improved from 0.13712 to 0.13586, saving model to /content/drive/My Drive/Major/dqd2_model_weights.h5\n",
            "226402/226402 [==============================] - 58s 257us/sample - loss: 0.1247 - acc: 0.8301 - val_loss: 0.1359 - val_acc: 0.8085\n",
            "Epoch 17/60\n",
            "226368/226402 [============================>.] - ETA: 0s - loss: 0.1239 - acc: 0.8316\n",
            "Epoch 00017: val_loss improved from 0.13586 to 0.13569, saving model to /content/drive/My Drive/Major/dqd2_model_weights.h5\n",
            "226402/226402 [==============================] - 59s 259us/sample - loss: 0.1239 - acc: 0.8316 - val_loss: 0.1357 - val_acc: 0.8104\n",
            "Epoch 18/60\n",
            "226240/226402 [============================>.] - ETA: 0s - loss: 0.1233 - acc: 0.8325\n",
            "Epoch 00018: val_loss improved from 0.13569 to 0.13535, saving model to /content/drive/My Drive/Major/dqd2_model_weights.h5\n",
            "226402/226402 [==============================] - 59s 261us/sample - loss: 0.1233 - acc: 0.8325 - val_loss: 0.1354 - val_acc: 0.8102\n",
            "Epoch 19/60\n",
            "226368/226402 [============================>.] - ETA: 0s - loss: 0.1224 - acc: 0.8337\n",
            "Epoch 00019: val_loss improved from 0.13535 to 0.13521, saving model to /content/drive/My Drive/Major/dqd2_model_weights.h5\n",
            "226402/226402 [==============================] - 59s 261us/sample - loss: 0.1224 - acc: 0.8337 - val_loss: 0.1352 - val_acc: 0.8092\n",
            "Epoch 20/60\n",
            "226304/226402 [============================>.] - ETA: 0s - loss: 0.1218 - acc: 0.8348\n",
            "Epoch 00020: val_loss did not improve from 0.13521\n",
            "226402/226402 [==============================] - 60s 266us/sample - loss: 0.1218 - acc: 0.8348 - val_loss: 0.1353 - val_acc: 0.8091\n",
            "Epoch 21/60\n",
            "226368/226402 [============================>.] - ETA: 0s - loss: 0.1211 - acc: 0.8364\n",
            "Epoch 00021: val_loss improved from 0.13521 to 0.13472, saving model to /content/drive/My Drive/Major/dqd2_model_weights.h5\n",
            "226402/226402 [==============================] - 59s 259us/sample - loss: 0.1211 - acc: 0.8364 - val_loss: 0.1347 - val_acc: 0.8110\n",
            "Epoch 22/60\n",
            "226368/226402 [============================>.] - ETA: 0s - loss: 0.1205 - acc: 0.8371\n",
            "Epoch 00022: val_loss improved from 0.13472 to 0.13407, saving model to /content/drive/My Drive/Major/dqd2_model_weights.h5\n",
            "226402/226402 [==============================] - 59s 262us/sample - loss: 0.1205 - acc: 0.8371 - val_loss: 0.1341 - val_acc: 0.8122\n",
            "Epoch 23/60\n",
            "226240/226402 [============================>.] - ETA: 0s - loss: 0.1198 - acc: 0.8381\n",
            "Epoch 00023: val_loss improved from 0.13407 to 0.13404, saving model to /content/drive/My Drive/Major/dqd2_model_weights.h5\n",
            "226402/226402 [==============================] - 59s 260us/sample - loss: 0.1198 - acc: 0.8381 - val_loss: 0.1340 - val_acc: 0.8125\n",
            "Epoch 24/60\n",
            "226240/226402 [============================>.] - ETA: 0s - loss: 0.1193 - acc: 0.8391\n",
            "Epoch 00024: val_loss improved from 0.13404 to 0.13364, saving model to /content/drive/My Drive/Major/dqd2_model_weights.h5\n",
            "226402/226402 [==============================] - 59s 261us/sample - loss: 0.1193 - acc: 0.8390 - val_loss: 0.1336 - val_acc: 0.8126\n",
            "Epoch 25/60\n",
            "226304/226402 [============================>.] - ETA: 0s - loss: 0.1188 - acc: 0.8398\n",
            "Epoch 00025: val_loss did not improve from 0.13364\n",
            "226402/226402 [==============================] - 58s 254us/sample - loss: 0.1187 - acc: 0.8398 - val_loss: 0.1348 - val_acc: 0.8132\n",
            "Epoch 26/60\n",
            "226240/226402 [============================>.] - ETA: 0s - loss: 0.1181 - acc: 0.8413\n",
            "Epoch 00026: val_loss did not improve from 0.13364\n",
            "226402/226402 [==============================] - 57s 252us/sample - loss: 0.1181 - acc: 0.8413 - val_loss: 0.1347 - val_acc: 0.8106\n",
            "Epoch 27/60\n",
            "226176/226402 [============================>.] - ETA: 0s - loss: 0.1176 - acc: 0.8419\n",
            "Epoch 00027: val_loss improved from 0.13364 to 0.13342, saving model to /content/drive/My Drive/Major/dqd2_model_weights.h5\n",
            "226402/226402 [==============================] - 58s 256us/sample - loss: 0.1176 - acc: 0.8419 - val_loss: 0.1334 - val_acc: 0.8143\n",
            "Epoch 28/60\n",
            "226368/226402 [============================>.] - ETA: 0s - loss: 0.1171 - acc: 0.8428\n",
            "Epoch 00028: val_loss improved from 0.13342 to 0.13315, saving model to /content/drive/My Drive/Major/dqd2_model_weights.h5\n",
            "226402/226402 [==============================] - 58s 255us/sample - loss: 0.1171 - acc: 0.8428 - val_loss: 0.1332 - val_acc: 0.8128\n",
            "Epoch 29/60\n",
            "226240/226402 [============================>.] - ETA: 0s - loss: 0.1165 - acc: 0.8437\n",
            "Epoch 00029: val_loss did not improve from 0.13315\n",
            "226402/226402 [==============================] - 56s 249us/sample - loss: 0.1165 - acc: 0.8437 - val_loss: 0.1333 - val_acc: 0.8145\n",
            "Epoch 30/60\n",
            "226368/226402 [============================>.] - ETA: 0s - loss: 0.1161 - acc: 0.8442\n",
            "Epoch 00030: val_loss did not improve from 0.13315\n",
            "226402/226402 [==============================] - 56s 248us/sample - loss: 0.1161 - acc: 0.8442 - val_loss: 0.1332 - val_acc: 0.8144\n",
            "Epoch 31/60\n",
            "226304/226402 [============================>.] - ETA: 0s - loss: 0.1155 - acc: 0.8454\n",
            "Epoch 00031: val_loss improved from 0.13315 to 0.13310, saving model to /content/drive/My Drive/Major/dqd2_model_weights.h5\n",
            "226402/226402 [==============================] - 58s 255us/sample - loss: 0.1155 - acc: 0.8454 - val_loss: 0.1331 - val_acc: 0.8149\n",
            "Epoch 32/60\n",
            "226304/226402 [============================>.] - ETA: 0s - loss: 0.1149 - acc: 0.8466\n",
            "Epoch 00032: val_loss improved from 0.13310 to 0.13272, saving model to /content/drive/My Drive/Major/dqd2_model_weights.h5\n",
            "226402/226402 [==============================] - 58s 255us/sample - loss: 0.1149 - acc: 0.8466 - val_loss: 0.1327 - val_acc: 0.8152\n",
            "Epoch 33/60\n",
            "226240/226402 [============================>.] - ETA: 0s - loss: 0.1145 - acc: 0.8468\n",
            "Epoch 00033: val_loss did not improve from 0.13272\n",
            "226402/226402 [==============================] - 56s 249us/sample - loss: 0.1145 - acc: 0.8468 - val_loss: 0.1334 - val_acc: 0.8149\n",
            "Epoch 34/60\n",
            "226176/226402 [============================>.] - ETA: 0s - loss: 0.1141 - acc: 0.8478\n",
            "Epoch 00034: val_loss did not improve from 0.13272\n",
            "226402/226402 [==============================] - 56s 249us/sample - loss: 0.1141 - acc: 0.8478 - val_loss: 0.1328 - val_acc: 0.8136\n",
            "Epoch 35/60\n",
            "226176/226402 [============================>.] - ETA: 0s - loss: 0.1136 - acc: 0.8489\n",
            "Epoch 00035: val_loss did not improve from 0.13272\n",
            "226402/226402 [==============================] - 56s 247us/sample - loss: 0.1136 - acc: 0.8489 - val_loss: 0.1333 - val_acc: 0.8143\n",
            "Epoch 36/60\n",
            "226176/226402 [============================>.] - ETA: 0s - loss: 0.1133 - acc: 0.8489\n",
            "Epoch 00036: val_loss did not improve from 0.13272\n",
            "226402/226402 [==============================] - 57s 251us/sample - loss: 0.1133 - acc: 0.8489 - val_loss: 0.1329 - val_acc: 0.8146\n",
            "Epoch 37/60\n",
            "226368/226402 [============================>.] - ETA: 0s - loss: 0.1128 - acc: 0.8500\n",
            "Epoch 00037: val_loss improved from 0.13272 to 0.13260, saving model to /content/drive/My Drive/Major/dqd2_model_weights.h5\n",
            "226402/226402 [==============================] - 59s 262us/sample - loss: 0.1128 - acc: 0.8500 - val_loss: 0.1326 - val_acc: 0.8151\n",
            "Epoch 38/60\n",
            "226304/226402 [============================>.] - ETA: 0s - loss: 0.1124 - acc: 0.8504\n",
            "Epoch 00038: val_loss did not improve from 0.13260\n",
            "226402/226402 [==============================] - 56s 248us/sample - loss: 0.1124 - acc: 0.8504 - val_loss: 0.1331 - val_acc: 0.8137\n",
            "Epoch 39/60\n",
            "226176/226402 [============================>.] - ETA: 0s - loss: 0.1121 - acc: 0.8516\n",
            "Epoch 00039: val_loss improved from 0.13260 to 0.13242, saving model to /content/drive/My Drive/Major/dqd2_model_weights.h5\n",
            "226402/226402 [==============================] - 58s 258us/sample - loss: 0.1121 - acc: 0.8517 - val_loss: 0.1324 - val_acc: 0.8155\n",
            "Epoch 40/60\n",
            "226176/226402 [============================>.] - ETA: 0s - loss: 0.1116 - acc: 0.8523\n",
            "Epoch 00040: val_loss improved from 0.13242 to 0.13216, saving model to /content/drive/My Drive/Major/dqd2_model_weights.h5\n",
            "226402/226402 [==============================] - 58s 256us/sample - loss: 0.1116 - acc: 0.8523 - val_loss: 0.1322 - val_acc: 0.8161\n",
            "Epoch 41/60\n",
            "226368/226402 [============================>.] - ETA: 0s - loss: 0.1113 - acc: 0.8522\n",
            "Epoch 00041: val_loss did not improve from 0.13216\n",
            "226402/226402 [==============================] - 56s 248us/sample - loss: 0.1113 - acc: 0.8522 - val_loss: 0.1325 - val_acc: 0.8158\n",
            "Epoch 42/60\n",
            "226368/226402 [============================>.] - ETA: 0s - loss: 0.1108 - acc: 0.8535\n",
            "Epoch 00042: val_loss did not improve from 0.13216\n",
            "226402/226402 [==============================] - 57s 251us/sample - loss: 0.1108 - acc: 0.8535 - val_loss: 0.1334 - val_acc: 0.8141\n",
            "Epoch 43/60\n",
            "226304/226402 [============================>.] - ETA: 0s - loss: 0.1105 - acc: 0.8543\n",
            "Epoch 00043: val_loss did not improve from 0.13216\n",
            "226402/226402 [==============================] - 57s 251us/sample - loss: 0.1105 - acc: 0.8543 - val_loss: 0.1340 - val_acc: 0.8142\n",
            "Epoch 44/60\n",
            "226176/226402 [============================>.] - ETA: 0s - loss: 0.1100 - acc: 0.8549\n",
            "Epoch 00044: val_loss improved from 0.13216 to 0.13216, saving model to /content/drive/My Drive/Major/dqd2_model_weights.h5\n",
            "226402/226402 [==============================] - 58s 256us/sample - loss: 0.1100 - acc: 0.8549 - val_loss: 0.1322 - val_acc: 0.8165\n",
            "Epoch 45/60\n",
            "226240/226402 [============================>.] - ETA: 0s - loss: 0.1098 - acc: 0.8548\n",
            "Epoch 00045: val_loss did not improve from 0.13216\n",
            "226402/226402 [==============================] - 57s 250us/sample - loss: 0.1098 - acc: 0.8548 - val_loss: 0.1325 - val_acc: 0.8163\n",
            "Epoch 46/60\n",
            "226304/226402 [============================>.] - ETA: 0s - loss: 0.1095 - acc: 0.8556\n",
            "Epoch 00046: val_loss did not improve from 0.13216\n",
            "226402/226402 [==============================] - 56s 246us/sample - loss: 0.1095 - acc: 0.8556 - val_loss: 0.1326 - val_acc: 0.8156\n",
            "Epoch 47/60\n",
            "226368/226402 [============================>.] - ETA: 0s - loss: 0.1091 - acc: 0.8560\n",
            "Epoch 00047: val_loss did not improve from 0.13216\n",
            "226402/226402 [==============================] - 56s 247us/sample - loss: 0.1091 - acc: 0.8560 - val_loss: 0.1332 - val_acc: 0.8153\n",
            "Epoch 48/60\n",
            "226240/226402 [============================>.] - ETA: 0s - loss: 0.1087 - acc: 0.8566\n",
            "Epoch 00048: val_loss improved from 0.13216 to 0.13203, saving model to /content/drive/My Drive/Major/dqd2_model_weights.h5\n",
            "226402/226402 [==============================] - 57s 254us/sample - loss: 0.1087 - acc: 0.8566 - val_loss: 0.1320 - val_acc: 0.8187\n",
            "Epoch 49/60\n",
            "226176/226402 [============================>.] - ETA: 0s - loss: 0.1086 - acc: 0.8568\n",
            "Epoch 00049: val_loss did not improve from 0.13203\n",
            "226402/226402 [==============================] - 57s 250us/sample - loss: 0.1086 - acc: 0.8568 - val_loss: 0.1330 - val_acc: 0.8171\n",
            "Epoch 50/60\n",
            "226368/226402 [============================>.] - ETA: 0s - loss: 0.1081 - acc: 0.8578\n",
            "Epoch 00050: val_loss did not improve from 0.13203\n",
            "226402/226402 [==============================] - 56s 248us/sample - loss: 0.1081 - acc: 0.8578 - val_loss: 0.1325 - val_acc: 0.8164\n",
            "Epoch 51/60\n",
            "226240/226402 [============================>.] - ETA: 0s - loss: 0.1079 - acc: 0.8582\n",
            "Epoch 00051: val_loss did not improve from 0.13203\n",
            "226402/226402 [==============================] - 57s 252us/sample - loss: 0.1079 - acc: 0.8582 - val_loss: 0.1326 - val_acc: 0.8160\n",
            "Epoch 52/60\n",
            "226240/226402 [============================>.] - ETA: 0s - loss: 0.1075 - acc: 0.8587\n",
            "Epoch 00052: val_loss did not improve from 0.13203\n",
            "226402/226402 [==============================] - 58s 257us/sample - loss: 0.1075 - acc: 0.8587 - val_loss: 0.1328 - val_acc: 0.8160\n",
            "Epoch 53/60\n",
            "226304/226402 [============================>.] - ETA: 0s - loss: 0.1072 - acc: 0.8589\n",
            "Epoch 00053: val_loss did not improve from 0.13203\n",
            "226402/226402 [==============================] - 57s 251us/sample - loss: 0.1072 - acc: 0.8589 - val_loss: 0.1331 - val_acc: 0.8163\n",
            "{'loss': [0.17218656841520674, 0.15481834470287975, 0.1480997945415718, 0.1436336581571375, 0.14027723068508363, 0.1377181297732535, 0.13556679672114366, 0.13383310456044623, 0.13218266677959015, 0.1309170045700418, 0.12957207828674847, 0.12851786675740653, 0.12746197647682395, 0.12648806396223078, 0.12557956222619024, 0.12470732557466196, 0.1239055225205901, 0.12325425617000414, 0.12242489569920169, 0.12176204362082164, 0.12112530156510751, 0.12054815190570677, 0.11982160108314921, 0.11933526267499452, 0.11874251140886435, 0.11813244573558244, 0.11763199411220784, 0.11708425945274661, 0.11649659807904278, 0.11606856299966929, 0.11551823172503689, 0.11493101153514536, 0.11449621222969407, 0.11411558639299381, 0.11359199630144848, 0.11326255978098651, 0.11275797834687885, 0.1123881729290584, 0.11206275783362388, 0.1115886134804235, 0.1112633666061605, 0.11082991562945167, 0.11052403701902791, 0.11002881391793894, 0.10978189359281926, 0.10948758606861168, 0.1090952974470366, 0.10868564706350917, 0.10855576743523386, 0.1081048885087531, 0.1078517091680117, 0.10753064159636906, 0.10720642706931716], 'acc': [0.74377877, 0.77679086, 0.78976774, 0.79887545, 0.8036413, 0.80869424, 0.8121041, 0.8151518, 0.81781965, 0.8203903, 0.8217242, 0.8238222, 0.82576567, 0.8270466, 0.8285925, 0.8301119, 0.8315916, 0.8325368, 0.8336631, 0.8348071, 0.83635306, 0.8370907, 0.8381242, 0.8390341, 0.8398424, 0.8412779, 0.8419449, 0.8428371, 0.84368956, 0.8442284, 0.84543425, 0.8466091, 0.8468079, 0.84776634, 0.84885734, 0.84892803, 0.84998363, 0.85040325, 0.8516533, 0.8522628, 0.8522142, 0.8534598, 0.854299, 0.85486877, 0.85483783, 0.85559756, 0.85595536, 0.85656047, 0.8568255, 0.8578016, 0.85822564, 0.8586673, 0.85890144], 'val_loss': [0.1610412254897424, 0.15303597157545848, 0.15043629321984017, 0.15304034276123685, 0.14428807694203433, 0.142009020909622, 0.14136035450071277, 0.1419662103138257, 0.1401574430852216, 0.13955310363065745, 0.13821912358989058, 0.13781075403498405, 0.1372460732587801, 0.1371231888165034, 0.13853353115360706, 0.13586414788283677, 0.1356861233535907, 0.13535188289837008, 0.13521011849596687, 0.1352542991624578, 0.1347161769996997, 0.1340679068633218, 0.13404014865493116, 0.13363559356206142, 0.1348158908979507, 0.1347410870707321, 0.13341570317606205, 0.1331538136953246, 0.1332734165970962, 0.13323266024422184, 0.133099443452716, 0.13272085832595631, 0.13343367814515913, 0.13281113310746154, 0.13332313356307962, 0.1328782687531906, 0.1326025067746078, 0.1330797035154352, 0.1324191313617438, 0.1321591876797477, 0.13254774500814184, 0.13335325378190818, 0.13395459793458164, 0.13215906695588456, 0.13246684705025757, 0.1326343564886636, 0.13320546424078653, 0.13203195136941678, 0.13301851508396825, 0.13250950735062164, 0.13263389848218604, 0.13276707780793776, 0.13307243995690324], 'val_acc': [0.7669299, 0.7802689, 0.7819473, 0.77745974, 0.79344887, 0.79995054, 0.8014876, 0.7967704, 0.80438507, 0.80272436, 0.8038197, 0.8067702, 0.80565715, 0.80572784, 0.802954, 0.80846626, 0.810392, 0.81023306, 0.80919063, 0.80908465, 0.8109927, 0.81224716, 0.81251216, 0.81256515, 0.81316584, 0.8105864, 0.8143319, 0.8127948, 0.81452626, 0.8143849, 0.81486195, 0.8152153, 0.8149326, 0.8136075, 0.8143496, 0.8145616, 0.81510925, 0.81366056, 0.81546265, 0.81606334, 0.8157983, 0.8141199, 0.81419057, 0.81652266, 0.81632835, 0.815604, 0.81533897, 0.81866044, 0.817088, 0.8164343, 0.815975, 0.81604564, 0.81625766]}\n"
          ]
        }
      ],
      "source": [
        "\n",
        "# compile the model\n",
        "from time import time\n",
        "from tensorflow.keras.optimizers import Adadelta\n",
        "from keras.callbacks import TensorBoard\n",
        "from tensorflow.keras.callbacks import EarlyStopping,ModelCheckpoint\n",
        "\n",
        "\n",
        "weight_path='/content/drive/My Drive/Major/dqd2_model_weights.h5'\n",
        "\n",
        "checkpoint = ModelCheckpoint(weight_path, monitor='val_loss', verbose=1, save_best_only=True, mode='min')\n",
        "early_stopping = EarlyStopping(monitor=\"val_loss\", mode=\"min\", patience=5)\n",
        "callbacks = [checkpoint, early_stopping]\n",
        "\n",
        "optimizer = Adadelta(lr=1, clipnorm = gradient_clipping_norm)\n",
        "model.compile(optimizer = optimizer, loss = 'mean_squared_error', metrics = ['accuracy'])\n",
        "\n",
        "# LOG_DIR=\"/root/logs\"\n",
        "# tensorboard = TensorBoard(log_dir=LOG_DIR.format(time()))\n",
        "\n",
        "# Start training\n",
        "training_start_time = time()\n",
        "\n",
        "\n",
        "# train (fit) the model\n",
        "hist = model.fit([x_train['left'], x_train['right']], y_train, \n",
        "                 batch_size=64,\n",
        "                 epochs=n_epochs, \n",
        "                 shuffle = True, \n",
        "                 validation_split=0.20,\n",
        "                 callbacks=callbacks)\n",
        "print(hist.history)"
      ]
    },
    {
      "cell_type": "code",
      "execution_count": 25,
      "metadata": {
        "colab": {
          "base_uri": "https://localhost:8080/",
          "height": 607
        },
        "colab_type": "code",
        "id": "7lqahgzc2syH",
        "outputId": "c51c7ea3-1455-464e-d4c1-31faa2466c5a"
      },
      "outputs": [
        {
          "name": "stdout",
          "output_type": "stream",
          "text": [
            "Training time finished.\n",
            "2 epochs in 0:51:12.457218\n"
          ]
        },
        {
          "data": {
            "image/png": "[encoded data removed]",
            "text/plain": [
              "<Figure size 432x288 with 1 Axes>"
            ]
          },
          "metadata": {
            "tags": []
          },
          "output_type": "display_data"
        },
        {
          "data": {
            "image/png": "[encoded data removed]",
            "text/plain": [
              "<Figure size 432x288 with 1 Axes>"
            ]
          },
          "metadata": {
            "tags": []
          },
          "output_type": "display_data"
        }
      ],
      "source": [
        "print(\"Training time finished.\\n{} epochs in {}\".format(2, datetime.timedelta(seconds=time()-training_start_time)))\n",
        "\n",
        "import matplotlib.pyplot as plt\n",
        "\n",
        "# Plot training & validation accuracy values\n",
        "plt.plot(hist.history['acc'])\n",
        "plt.plot(hist.history['val_acc'])\n",
        "plt.title('Model accuracy')\n",
        "plt.ylabel('Accuracy')\n",
        "plt.xlabel('Epoch')\n",
        "plt.legend(['Train', 'Test'], loc='upper left')\n",
        "plt.savefig(\"abc76.png\")\n",
        "plt.show()\n",
        "\n",
        "# Plot training & validation loss values\n",
        "plt.plot(hist.history['loss'])\n",
        "plt.plot(hist.history['val_loss'])\n",
        "plt.title('Model loss')\n",
        "plt.ylabel('Loss')\n",
        "plt.xlabel('Epoch')\n",
        "plt.legend(['Train', 'Test'], loc='upper left')\n",
        "plt.savefig(\"bc76.png\")\n",
        "plt.show()"
      ]
    },
    {
      "cell_type": "code",
      "execution_count": 26,
      "metadata": {
        "colab": {
          "base_uri": "https://localhost:8080/",
          "height": 394
        },
        "colab_type": "code",
        "id": "IiBJzpPvc9vT",
        "outputId": "3245f82c-7c93-454c-ca58-d7bcd18ac13b"
      },
      "outputs": [
        {
          "name": "stdout",
          "output_type": "stream",
          "text": [
            "Collecting pydrive\n",
            "\u001b[?25l  Downloading https://files.pythonhosted.org/packages/52/e0/0e64788e5dd58ce2d6934549676243dc69d982f198524be9b99e9c2a4fd5/PyDrive-1.3.1.tar.gz (987kB)\n",
            "\u001b[K     |████████████████████████████████| 993kB 9.5MB/s \n",
            "\u001b[?25hRequirement already satisfied: google-api-python-client>=1.2 in /usr/local/lib/python3.6/dist-packages (from pydrive) (1.7.9)\n",
            "Requirement already satisfied: oauth2client>=4.0.0 in /usr/local/lib/python3.6/dist-packages (from pydrive) (4.1.3)\n",
            "Requirement already satisfied: PyYAML>=3.0 in /usr/local/lib/python3.6/dist-packages (from pydrive) (3.13)\n",
            "Requirement already satisfied: google-auth>=1.4.1 in /usr/local/lib/python3.6/dist-packages (from google-api-python-client>=1.2->pydrive) (1.4.2)\n",
            "Requirement already satisfied: six<2dev,>=1.6.1 in /usr/local/lib/python3.6/dist-packages (from google-api-python-client>=1.2->pydrive) (1.12.0)\n",
            "Requirement already satisfied: google-auth-httplib2>=0.0.3 in /usr/local/lib/python3.6/dist-packages (from google-api-python-client>=1.2->pydrive) (0.0.3)\n",
            "Requirement already satisfied: uritemplate<4dev,>=3.0.0 in /usr/local/lib/python3.6/dist-packages (from google-api-python-client>=1.2->pydrive) (3.0.0)\n",
            "Requirement already satisfied: httplib2<1dev,>=0.9.2 in /usr/local/lib/python3.6/dist-packages (from google-api-python-client>=1.2->pydrive) (0.11.3)\n",
            "Requirement already satisfied: pyasn1>=0.1.7 in /usr/local/lib/python3.6/dist-packages (from oauth2client>=4.0.0->pydrive) (0.4.5)\n",
            "Requirement already satisfied: rsa>=3.1.4 in /usr/local/lib/python3.6/dist-packages (from oauth2client>=4.0.0->pydrive) (4.0)\n",
            "Requirement already satisfied: pyasn1-modules>=0.0.5 in /usr/local/lib/python3.6/dist-packages (from oauth2client>=4.0.0->pydrive) (0.2.5)\n",
            "Requirement already satisfied: cachetools>=2.0.0 in /usr/local/lib/python3.6/dist-packages (from google-auth>=1.4.1->google-api-python-client>=1.2->pydrive) (3.1.1)\n",
            "Building wheels for collected packages: pydrive\n",
            "  Building wheel for pydrive (setup.py) ... \u001b[?25l\u001b[?25hdone\n",
            "  Stored in directory: /root/.cache/pip/wheels/fa/d2/9a/d3b6b506c2da98289e5d417215ce34b696db856643bad779f4\n",
            "Successfully built pydrive\n",
            "Installing collected packages: pydrive\n",
            "Successfully installed pydrive-1.3.1\n"
          ]
        }
      ],
      "source": [
        "!pip install pydrive"
      ]
    },
    {
      "cell_type": "code",
      "execution_count": null,
      "metadata": {
        "colab": {},
        "colab_type": "code",
        "id": "RZJLzbN2cZLU"
      },
      "outputs": [],
      "source": [
        "#uploading to google drive\n",
        "from pydrive.auth import GoogleAuth\n",
        "from pydrive.drive import GoogleDrive\n",
        "from google.colab import auth\n",
        "from oauth2client.client import GoogleCredentials\n",
        "\n",
        "# 1. Authenticate and create the PyDrive client.\n",
        "auth.authenticate_user()\n",
        "gauth = GoogleAuth()\n",
        "gauth.credentials = GoogleCredentials.get_application_default()\n",
        "drive = GoogleDrive(gauth)  \n",
        "\n",
        "# get the folder id where you want to save your file\n",
        "\n",
        "\n",
        "model.save('/content/drive/My Drive/Major/85DQD2.h5')\n"
      ]
    }
  ],
  "metadata": {
    "accelerator": "GPU",
    "colab": {
      "collapsed_sections": [],
      "include_colab_link": true,
      "name": "DQD_MAIN.ipynb",
      "provenance": [],
      "version": "0.3.2"
    },
    "kernelspec": {
      "display_name": "Python 3",
      "name": "python3"
    }
  },
  "nbformat": 4,
  "nbformat_minor": 0
}
