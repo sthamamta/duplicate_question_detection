{
  "cells": [
    {
      "cell_type": "markdown",
      "metadata": {
        "colab_type": "text",
        "id": "view-in-github"
      },
      "source": [
        "<a href=\"https://colab.research.google.com/github/MohitDhungana/duplicate_question_detection/blob/master/88DQD8.ipynb\" target=\"_parent\"><img src=\"https://colab.research.google.com/assets/colab-badge.svg\" alt=\"Open In Colab\"/></a>"
      ]
    },
    {
      "cell_type": "code",
      "execution_count": 1,
      "metadata": {
        "colab": {
          "base_uri": "https://localhost:8080/",
          "height": 156
        },
        "colab_type": "code",
        "id": "aZlxkvW__7mI",
        "outputId": "894ea49f-60d8-4bd1-c59b-64ae240a2480"
      },
      "outputs": [
        {
          "name": "stdout",
          "output_type": "stream",
          "text": [
            "[nltk_data] Downloading package stopwords to /root/nltk_data...\n",
            "[nltk_data]   Unzipping corpora/stopwords.zip.\n",
            "Go to this URL in a browser: https://accounts.google.com/o/oauth2/auth?client_id=947318989803-6bn6qk8qdgf4n4g3pfee6491hc0brc4i.apps.googleusercontent.com&redirect_uri=urn%3Aietf%3Awg%3Aoauth%3A2.0%3Aoob&scope=email%20https%3A%2F%2Fwww.googleapis.com%2Fauth%2Fdocs.test%20https%3A%2F%2Fwww.googleapis.com%2Fauth%2Fdrive%20https%3A%2F%2Fwww.googleapis.com%2Fauth%2Fdrive.photos.readonly%20https%3A%2F%2Fwww.googleapis.com%2Fauth%2Fpeopleapi.readonly&response_type=code\n",
            "\n",
            "Enter your authorization code:\n",
            "··········\n",
            "Mounted at /content/drive\n"
          ]
        }
      ],
      "source": [
        "#this is modification on checkointed file\n",
        "\n",
        "from time import time\n",
        "import pandas as pd\n",
        "import numpy as np\n",
        "from gensim.models import KeyedVectors\n",
        "import re\n",
        "import nltk\n",
        "from nltk.corpus import stopwords\n",
        "\n",
        "nltk.download('stopwords')\n",
        "\n",
        "import itertools\n",
        "import datetime\n",
        "\n",
        "\n",
        "from google.colab import drive\n",
        "drive.mount('/content/drive', force_remount=True)"
      ]
    },
    {
      "cell_type": "code",
      "execution_count": null,
      "metadata": {
        "colab": {},
        "colab_type": "code",
        "id": "Buo1g7MTeEzO"
      },
      "outputs": [],
      "source": []
    },
    {
      "cell_type": "code",
      "execution_count": null,
      "metadata": {
        "colab": {},
        "colab_type": "code",
        "id": "uVvNDvPLBLDX"
      },
      "outputs": [],
      "source": [
        "df = pd.read_csv('/content/drive/My Drive/Major/train.csv')\n",
        "stops = set(stopwords.words('english'))\n",
        "\n",
        "def text_to_word_list(text):\n",
        "#   gets a whole question inside text variable on which  preprocessing is done and then the question is splitted into word indices and returned\n",
        "    text = str(text)\n",
        "    text = text.lower()\n",
        "\n",
        "    # Clean the text\n",
        "    text = re.sub(r\"[^A-Za-z0-9^,!.\\/'+-=]\", \" \", text)\n",
        "    text = re.sub(r\"what's\", \"what is \", text)\n",
        "    text = re.sub(r\"\\'s\", \" \", text)\n",
        "    text = re.sub(r\"\\'ve\", \" have \", text)\n",
        "    text = re.sub(r\"can't\", \"cannot \", text)\n",
        "    text = re.sub(r\"n't\", \" not \", text)\n",
        "    text = re.sub(r\"i'm\", \"i am \", text)\n",
        "    text = re.sub(r\"\\'re\", \" are \", text)\n",
        "    text = re.sub(r\"\\'d\", \" would \", text)\n",
        "    text = re.sub(r\"\\'ll\", \" will \", text)\n",
        "    text = re.sub(r\",\", \" \", text)\n",
        "    text = re.sub(r\"\\.\", \" \", text)\n",
        "    text = re.sub(r\"!\", \" ! \", text)\n",
        "    text = re.sub(r\"\\/\", \" \", text)\n",
        "    text = re.sub(r\"\\^\", \" ^ \", text)\n",
        "    text = re.sub(r\"\\+\", \" + \", text)\n",
        "    text = re.sub(r\"\\-\", \" - \", text)\n",
        "    text = re.sub(r\"\\=\", \" = \", text)\n",
        "    text = re.sub(r\"'\", \" \", text)\n",
        "    text = re.sub(r\"(\\d+)(k)\", r\"\\g<1>000\", text)\n",
        "    text = re.sub(r\":\", \" : \", text)\n",
        "    text = re.sub(r\" e g \", \" eg \", text)\n",
        "    text = re.sub(r\" b g \", \" bg \", text)\n",
        "    text = re.sub(r\" u s \", \" american \", text)\n",
        "    text = re.sub(r\"\\0s\", \"0\", text)\n",
        "    text = re.sub(r\" 9 11 \", \"911\", text)\n",
        "    text = re.sub(r\"e - mail\", \"email\", text)\n",
        "    text = re.sub(r\"j k\", \"jk\", text)\n",
        "    text = re.sub(r\"\\s{2,}\", \" \", text)\n",
        "\n",
        "    text = text.split()\n",
        "\n",
        "    return text\n"
      ]
    },
    {
      "cell_type": "code",
      "execution_count": null,
      "metadata": {
        "colab": {},
        "colab_type": "code",
        "id": "v6YQyhoHwdAf"
      },
      "outputs": [],
      "source": [
        "vocabulary = dict() \n",
        "inverse_vocabulary = ['<unk>']"
      ]
    },
    {
      "cell_type": "code",
      "execution_count": 4,
      "metadata": {
        "colab": {
          "base_uri": "https://localhost:8080/",
          "height": 88
        },
        "colab_type": "code",
        "id": "bfmvHK6CBb2v",
        "outputId": "89ab1ac6-88ec-41b5-8bc7-16fd4918f747"
      },
      "outputs": [
        {
          "name": "stderr",
          "output_type": "stream",
          "text": [
            "/usr/local/lib/python3.6/dist-packages/smart_open/smart_open_lib.py:398: UserWarning: This function is deprecated, use smart_open.open instead. See the migration notes for details: https://github.com/RaRe-Technologies/smart_open/blob/master/README.rst#migrating-to-the-new-open-function\n",
            "  'See the migration notes for details: %s' % _MIGRATION_NOTES_URL\n",
            "/usr/local/lib/python3.6/dist-packages/ipykernel_launcher.py:40: FutureWarning: set_value is deprecated and will be removed in a future release. Please use .at[] or .iat[] accessors instead\n"
          ]
        }
      ],
      "source": [
        "# Prepare embedding\n",
        "\n",
        "  # '<unk>' will never be used, it is only a placeholder for the [0, 0, ....0] embedding\n",
        "word2vec = KeyedVectors.load_word2vec_format('/content/drive/My Drive/Datasets/GoogleNews-vectors-negative300.bin.gz', binary=True)\n",
        "\n",
        "questions_cols = ['question1', 'question2']\n",
        "\n",
        "# Iterate over the questions(i.e. 'question 1', 'question2') of the training sets provided \n",
        "# get the data from dataset(df) in  variable dataset\n",
        "for dataset in [df]:\n",
        "#   now iterate through the rows of the dataset using  index as iterator (i.e. goes through the row having particular index at a time) \n",
        "    for index, row in dataset.iterrows():\n",
        "\n",
        "        # Iterate through the text of both questions within the current  row\n",
        "        for question in questions_cols:\n",
        "            que2no = []  # que2no ->  numbers representation of the cureently being processed question\n",
        "            \n",
        "            count_ = 0\n",
        "\n",
        "            for word in text_to_word_list(row[question]):\n",
        "\n",
        "                # Check for unwanted words i.e mainly stopwords\n",
        "                if word in stops and word not in word2vec.vocab:\n",
        "                    continue\n",
        "                    \n",
        "#                 limit the length to 50, this decreased the time to train an epoch from more than 1 hour to 20 minutes.\n",
        "                if count_ >= 50 :\n",
        "                  continue\n",
        "                count_ +=1\n",
        "                \n",
        "                \n",
        "                if word not in vocabulary:\n",
        "                    vocabulary[word] = len(inverse_vocabulary)\n",
        "                    que2no.append(len(inverse_vocabulary))\n",
        "                    inverse_vocabulary.append(word)\n",
        "                else:\n",
        "                    que2no.append(vocabulary[word])\n",
        "#                     que2no.append(float(vocabulary[word]))\n",
        "\n",
        "#                 que2no=list(map(int,que2no))\n",
        "\n",
        "            # Replace questions as word to question as number representation\n",
        "            dataset.set_value(index, question, que2no)"
      ]
    },
    {
      "cell_type": "code",
      "execution_count": 5,
      "metadata": {
        "colab": {
          "base_uri": "https://localhost:8080/",
          "height": 204
        },
        "colab_type": "code",
        "id": "gPG__4vqCFNI",
        "outputId": "569ded96-9aea-45f2-8a31-f54026eeb7d7"
      },
      "outputs": [
        {
          "data": {
            "text/html": [
              "<div>\n",
              "<style scoped>\n",
              "    .dataframe tbody tr th:only-of-type {\n",
              "        vertical-align: middle;\n",
              "    }\n",
              "\n",
              "    .dataframe tbody tr th {\n",
              "        vertical-align: top;\n",
              "    }\n",
              "\n",
              "    .dataframe thead th {\n",
              "        text-align: right;\n",
              "    }\n",
              "</style>\n",
              "<table border=\"1\" class=\"dataframe\">\n",
              "  <thead>\n",
              "    <tr style=\"text-align: right;\">\n",
              "      <th></th>\n",
              "      <th>id</th>\n",
              "      <th>qid1</th>\n",
              "      <th>qid2</th>\n",
              "      <th>question1</th>\n",
              "      <th>question2</th>\n",
              "      <th>is_duplicate</th>\n",
              "    </tr>\n",
              "  </thead>\n",
              "  <tbody>\n",
              "    <tr>\n",
              "      <th>404285</th>\n",
              "      <td>404285</td>\n",
              "      <td>433578</td>\n",
              "      <td>379845</td>\n",
              "      <td>[26, 184, 3632, 115, 307, 8, 3, 24585, 522, 52...</td>\n",
              "      <td>[26, 184, 3632, 115, 307, 8, 12032, 522, 523, ...</td>\n",
              "      <td>0</td>\n",
              "    </tr>\n",
              "    <tr>\n",
              "      <th>404286</th>\n",
              "      <td>404286</td>\n",
              "      <td>18840</td>\n",
              "      <td>155606</td>\n",
              "      <td>[97, 99, 2441, 307, 2, 598, 180, 1822]</td>\n",
              "      <td>[2, 47, 467, 77, 307, 2, 598, 180, 1822]</td>\n",
              "      <td>1</td>\n",
              "    </tr>\n",
              "    <tr>\n",
              "      <th>404287</th>\n",
              "      <td>404287</td>\n",
              "      <td>537928</td>\n",
              "      <td>537929</td>\n",
              "      <td>[1, 2, 57, 11012]</td>\n",
              "      <td>[1, 2, 83, 11012]</td>\n",
              "      <td>0</td>\n",
              "    </tr>\n",
              "    <tr>\n",
              "      <th>404288</th>\n",
              "      <td>404288</td>\n",
              "      <td>537930</td>\n",
              "      <td>537931</td>\n",
              "      <td>[1, 2, 3, 21205, 12587, 534, 2769, 33, 3114, 8...</td>\n",
              "      <td>[16, 42, 1086, 2877, 2854, 2622, 1220, 16, 173...</td>\n",
              "      <td>0</td>\n",
              "    </tr>\n",
              "    <tr>\n",
              "      <th>404289</th>\n",
              "      <td>404289</td>\n",
              "      <td>537932</td>\n",
              "      <td>537933</td>\n",
              "      <td>[1, 2, 139, 401, 2543, 175, 7227]</td>\n",
              "      <td>[1, 2, 47, 139, 401, 2543, 175, 135, 7227]</td>\n",
              "      <td>0</td>\n",
              "    </tr>\n",
              "  </tbody>\n",
              "</table>\n",
              "</div>"
            ],
            "text/plain": [
              "            id  ...  is_duplicate\n",
              "404285  404285  ...             0\n",
              "404286  404286  ...             1\n",
              "404287  404287  ...             0\n",
              "404288  404288  ...             0\n",
              "404289  404289  ...             0\n",
              "\n",
              "[5 rows x 6 columns]"
            ]
          },
          "execution_count": 5,
          "metadata": {
            "tags": []
          },
          "output_type": "execute_result"
        }
      ],
      "source": [
        "# max_sequence_length=50\n",
        "max_seq_length = max(df.question1.map(lambda x: len(x)).max(),\n",
        "                     df.question2.map(lambda x: len(x)).max()\n",
        "                    )\n",
        "# max_seq_length\n",
        "df.tail()"
      ]
    },
    {
      "cell_type": "code",
      "execution_count": null,
      "metadata": {
        "colab": {},
        "colab_type": "code",
        "id": "v2oWLNbQTY4F"
      },
      "outputs": [],
      "source": []
    },
    {
      "cell_type": "code",
      "execution_count": null,
      "metadata": {
        "colab": {},
        "colab_type": "code",
        "id": "J0cRQv18CzzA"
      },
      "outputs": [],
      "source": []
    },
    {
      "cell_type": "code",
      "execution_count": null,
      "metadata": {
        "colab": {},
        "colab_type": "code",
        "id": "YS30hxt_OvzY"
      },
      "outputs": [],
      "source": [
        "embedding_dim = 300\n",
        "# creating an embedding matrix whose length is one more than vocabulary and dimension is 300\n",
        "embedding_matrix = 1 * np.random.randn(len(vocabulary) + 1, embedding_dim)  \n",
        "embedding_matrix[0] = 0  # So that the zeroth place remain empty \n",
        "\n",
        "# (Build the embedding matrix) Assigning the word2vec embedding for each words of our vocabulary  \n",
        "for word, index in vocabulary.items():\n",
        "    if word in word2vec.vocab:\n",
        "        embedding_matrix[index] = word2vec.word_vec(word)"
      ]
    },
    {
      "cell_type": "code",
      "execution_count": null,
      "metadata": {
        "colab": {},
        "colab_type": "code",
        "id": "zS7KaJt3O2R8"
      },
      "outputs": [],
      "source": [
        "del word2vec\n"
      ]
    },
    {
      "cell_type": "code",
      "execution_count": 8,
      "metadata": {
        "colab": {
          "base_uri": "https://localhost:8080/",
          "height": 85
        },
        "colab_type": "code",
        "id": "iyQX5TXOPQYO",
        "outputId": "00ba34ad-3b1f-4712-8434-755227d50ec2"
      },
      "outputs": [
        {
          "name": "stdout",
          "output_type": "stream",
          "text": [
            "(283003, 2)\n",
            "(121287, 2)\n",
            "(283003,)\n",
            "(121287,)\n"
          ]
        }
      ],
      "source": [
        "from sklearn.model_selection import train_test_split\n",
        "\n",
        "\n",
        "X=df[questions_cols]\n",
        "Y=df['is_duplicate']\n",
        "\n",
        "\n",
        "x_train,x_validate,y_train,y_validate = train_test_split(X, Y, test_size = 0.3) # dataset split to 70% for training and 30% for validation\n",
        "\n",
        "print(x_train.shape)\n",
        "print(x_validate.shape)\n",
        "print(y_train.shape)\n",
        "print(y_validate.shape)\n",
        "                 \n",
        "# Split to dicts\n",
        "x_train = {'left': x_train.question1, 'right': x_train.question2}\n",
        "x_validate = {'left': x_validate.question1, 'right': x_validate.question2}\n",
        "\n",
        "# Convert labels to their numpy representations\n",
        "y_train=y_train.values\n",
        "y_validate=y_validate.values\n",
        "\n"
      ]
    },
    {
      "cell_type": "code",
      "execution_count": null,
      "metadata": {
        "colab": {},
        "colab_type": "code",
        "id": "jZc4-nnYP-dL"
      },
      "outputs": [],
      "source": [
        "from tensorflow.keras.preprocessing.sequence import pad_sequences\n",
        "\n",
        "# zero padding\n",
        "\n",
        "for dataset, side in itertools.product([x_train,x_validate],['left','right']):\n",
        "  dataset[side] = pad_sequences(dataset[side], maxlen = max_seq_length)"
      ]
    },
    {
      "cell_type": "code",
      "execution_count": 10,
      "metadata": {
        "colab": {
          "base_uri": "https://localhost:8080/",
          "height": 51
        },
        "colab_type": "code",
        "id": "RgUMIIWPQ3zc",
        "outputId": "ff3a7a43-2682-4d2b-eba9-9de9bc8a49a2"
      },
      "outputs": [
        {
          "name": "stdout",
          "output_type": "stream",
          "text": [
            "(283003, 50)\n",
            "(121287, 50)\n"
          ]
        }
      ],
      "source": [
        "# print(df['question1'][0])\n",
        "\n",
        "# print(dataset)\n",
        "print(x_train['left'].shape)\n",
        "# print(x_train['left'])\n",
        "print(x_validate['left'].shape)"
      ]
    },
    {
      "cell_type": "code",
      "execution_count": null,
      "metadata": {
        "colab": {},
        "colab_type": "code",
        "id": "OhNvzgKuQ_nY"
      },
      "outputs": [],
      "source": [
        "# check to see if shape of left and right input is same\n",
        "assert x_train['left'].shape == x_train['right'].shape\n",
        "\n",
        "# check to see if shape of input and output is same\n",
        "assert len(x_train['left']) == len(y_train)"
      ]
    },
    {
      "cell_type": "code",
      "execution_count": 12,
      "metadata": {
        "colab": {
          "base_uri": "https://localhost:8080/",
          "height": 34
        },
        "colab_type": "code",
        "id": "x7ox-AVGRu60",
        "outputId": "4722674d-bfec-4ecc-c403-5533e5ce838e"
      },
      "outputs": [
        {
          "data": {
            "text/plain": [
              "(283003, 50)"
            ]
          },
          "execution_count": 12,
          "metadata": {
            "tags": []
          },
          "output_type": "execute_result"
        }
      ],
      "source": [
        "# shape of question1 column (x,y)==(total rows, total words in each question)\n",
        "x_train['left'].shape"
      ]
    },
    {
      "cell_type": "code",
      "execution_count": null,
      "metadata": {
        "colab": {},
        "colab_type": "code",
        "id": "rz0P_YedR236"
      },
      "outputs": [],
      "source": [
        "# manhattan distance calculation function\n",
        "import tensorflow.keras.backend as K\n",
        "def manhattan_distance(left,right):\n",
        "  return K.exp(-K.sum(K.abs(left-right),axis=1, keepdims=True))"
      ]
    },
    {
      "cell_type": "code",
      "execution_count": 14,
      "metadata": {
        "colab": {
          "base_uri": "https://localhost:8080/",
          "height": 683
        },
        "colab_type": "code",
        "id": "2vdeYPxYTicf",
        "outputId": "f4a12890-be56-427d-e329-7c9d3aff55a8"
      },
      "outputs": [
        {
          "name": "stderr",
          "output_type": "stream",
          "text": [
            "WARNING: Logging before flag parsing goes to stderr.\n",
            "W0701 09:03:35.878537 139973565097856 deprecation.py:506] From /usr/local/lib/python3.6/dist-packages/tensorflow/python/keras/initializers.py:119: calling RandomUniform.__init__ (from tensorflow.python.ops.init_ops) with dtype is deprecated and will be removed in a future version.\n",
            "Instructions for updating:\n",
            "Call initializer instance with the dtype argument instead of passing it to the constructor\n",
            "W0701 09:03:38.606499 139973565097856 deprecation.py:506] From /usr/local/lib/python3.6/dist-packages/tensorflow/python/ops/init_ops.py:1251: calling VarianceScaling.__init__ (from tensorflow.python.ops.init_ops) with dtype is deprecated and will be removed in a future version.\n",
            "Instructions for updating:\n",
            "Call initializer instance with the dtype argument instead of passing it to the constructor\n",
            "W0701 09:03:38.614723 139973565097856 deprecation.py:506] From /usr/local/lib/python3.6/dist-packages/tensorflow/python/ops/init_ops.py:97: calling GlorotUniform.__init__ (from tensorflow.python.ops.init_ops) with dtype is deprecated and will be removed in a future version.\n",
            "Instructions for updating:\n",
            "Call initializer instance with the dtype argument instead of passing it to the constructor\n",
            "W0701 09:03:38.617211 139973565097856 deprecation.py:506] From /usr/local/lib/python3.6/dist-packages/tensorflow/python/ops/init_ops.py:97: calling Orthogonal.__init__ (from tensorflow.python.ops.init_ops) with dtype is deprecated and will be removed in a future version.\n",
            "Instructions for updating:\n",
            "Call initializer instance with the dtype argument instead of passing it to the constructor\n",
            "W0701 09:03:38.618307 139973565097856 deprecation.py:506] From /usr/local/lib/python3.6/dist-packages/tensorflow/python/ops/init_ops.py:97: calling Zeros.__init__ (from tensorflow.python.ops.init_ops) with dtype is deprecated and will be removed in a future version.\n",
            "Instructions for updating:\n",
            "Call initializer instance with the dtype argument instead of passing it to the constructor\n"
          ]
        },
        {
          "name": "stdout",
          "output_type": "stream",
          "text": [
            "Model: \"model\"\n",
            "__________________________________________________________________________________________________\n",
            "Layer (type)                    Output Shape         Param #     Connected to                     \n",
            "==================================================================================================\n",
            "left_input (InputLayer)         [(None, 50)]         0                                            \n",
            "__________________________________________________________________________________________________\n",
            "right_input (InputLayer)        [(None, 50)]         0                                            \n",
            "__________________________________________________________________________________________________\n",
            "embedding_layer (Embedding)     (None, 50, 300)      25796400    left_input[0][0]                 \n",
            "                                                                 right_input[0][0]                \n",
            "__________________________________________________________________________________________________\n",
            "bidirectional (Bidirectional)   (None, 30)           38040       embedding_layer[0][0]            \n",
            "                                                                 embedding_layer[1][0]            \n",
            "__________________________________________________________________________________________________\n",
            "lambda (Lambda)                 (None, 1)            0           bidirectional[0][0]              \n",
            "                                                                 bidirectional[1][0]              \n",
            "==================================================================================================\n",
            "Total params: 25,834,440\n",
            "Trainable params: 38,040\n",
            "Non-trainable params: 25,796,400\n",
            "__________________________________________________________________________________________________\n",
            "None\n"
          ]
        }
      ],
      "source": [
        "import tensorflow as tf\n",
        "from tensorflow.keras.layers import Input, Embedding, LSTM, Lambda, CuDNNLSTM,Bidirectional\n",
        "\n",
        "n_hidden = 15\n",
        "n_epochs=150\n",
        "gradient_clipping_norm  = 1.25\n",
        "\n",
        "# input layer\n",
        "#recheck shape before training\n",
        "left_input = Input(shape = (max_seq_length,), dtype='int32',name = 'left_input')\n",
        "right_input = Input(shape = (max_seq_length,), dtype='int32', name = 'right_input')\n",
        "\n",
        "\n",
        "\n",
        "# embedding layer\n",
        "# recheck dims \n",
        "embedding_layer = Embedding(input_dim = len(embedding_matrix), output_dim = embedding_dim, input_length = max_seq_length, weights=[embedding_matrix], trainable=False, name = 'embedding_layer')\n",
        "\n",
        "encoded_left = embedding_layer(left_input)\n",
        "encoded_right = embedding_layer(right_input)\n",
        "\n",
        "\n",
        "\n",
        "#LSTM instantiation\n",
        "# check parameter for LSTM.\n",
        "\n",
        "shared_lstm = Bidirectional(CuDNNLSTM(n_hidden, name = 'LSTM_layer'))\n",
        "\n",
        "# shared LSTM\n",
        "left_output = shared_lstm(encoded_left)\n",
        "right_output = shared_lstm(encoded_right)\n",
        "\n",
        "\n",
        "\n",
        "\n",
        "# TODO: check output shape of the output lambda layer\n",
        "# output layer\n",
        "output_layer = Lambda(function = lambda x : manhattan_distance(x[0], x[1]),output_shape=lambda x: (x[0][0],1))([left_output, right_output])\n",
        "\n",
        "\n",
        "\n",
        "# define above model\n",
        "model = tf.keras.Model(inputs=[left_input, right_input], outputs=output_layer)\n",
        "\n",
        "# summary of model\n",
        "print(model.summary())"
      ]
    },
    {
      "cell_type": "code",
      "execution_count": 15,
      "metadata": {
        "colab": {
          "base_uri": "https://localhost:8080/",
          "height": 1000
        },
        "colab_type": "code",
        "id": "Nt8OV8UpU-Yg",
        "outputId": "6ffeae91-e0fd-427a-a4d6-31cfc876031c"
      },
      "outputs": [
        {
          "name": "stdout",
          "output_type": "stream",
          "text": [
            "Train on 226402 samples, validate on 56601 samples\n"
          ]
        },
        {
          "name": "stderr",
          "output_type": "stream",
          "text": [
            "Using TensorFlow backend.\n",
            "W0701 09:03:39.560963 139973565097856 deprecation.py:323] From /usr/local/lib/python3.6/dist-packages/tensorflow/python/ops/clip_ops.py:157: add_dispatch_support.<locals>.wrapper (from tensorflow.python.ops.array_ops) is deprecated and will be removed in a future version.\n",
            "Instructions for updating:\n",
            "Use tf.where in 2.0, which has the same broadcast rule as np.where\n"
          ]
        },
        {
          "name": "stdout",
          "output_type": "stream",
          "text": [
            "Epoch 1/150\n",
            "226304/226402 [============================>.] - ETA: 0s - loss: 0.1722 - acc: 0.7447\n",
            "Epoch 00001: val_loss improved from inf to 0.16074, saving model to /content/drive/My Drive/Major/dqd8_model_weights.h5\n",
            "226402/226402 [==============================] - 56s 245us/sample - loss: 0.1722 - acc: 0.7447 - val_loss: 0.1607 - val_acc: 0.7652\n",
            "Epoch 2/150\n",
            "226304/226402 [============================>.] - ETA: 0s - loss: 0.1547 - acc: 0.7777\n",
            "Epoch 00002: val_loss improved from 0.16074 to 0.15338, saving model to /content/drive/My Drive/Major/dqd8_model_weights.h5\n",
            "226402/226402 [==============================] - 54s 240us/sample - loss: 0.1547 - acc: 0.7776 - val_loss: 0.1534 - val_acc: 0.7809\n",
            "Epoch 3/150\n",
            "226368/226402 [============================>.] - ETA: 0s - loss: 0.1481 - acc: 0.7900\n",
            "Epoch 00003: val_loss improved from 0.15338 to 0.14995, saving model to /content/drive/My Drive/Major/dqd8_model_weights.h5\n",
            "226402/226402 [==============================] - 54s 238us/sample - loss: 0.1481 - acc: 0.7900 - val_loss: 0.1500 - val_acc: 0.7838\n",
            "Epoch 4/150\n",
            "226240/226402 [============================>.] - ETA: 0s - loss: 0.1438 - acc: 0.7981\n",
            "Epoch 00004: val_loss improved from 0.14995 to 0.14726, saving model to /content/drive/My Drive/Major/dqd8_model_weights.h5\n",
            "226402/226402 [==============================] - 54s 238us/sample - loss: 0.1438 - acc: 0.7981 - val_loss: 0.1473 - val_acc: 0.7889\n",
            "Epoch 5/150\n",
            "226176/226402 [============================>.] - ETA: 0s - loss: 0.1406 - acc: 0.8034\n",
            "Epoch 00005: val_loss improved from 0.14726 to 0.14529, saving model to /content/drive/My Drive/Major/dqd8_model_weights.h5\n",
            "226402/226402 [==============================] - 54s 237us/sample - loss: 0.1406 - acc: 0.8035 - val_loss: 0.1453 - val_acc: 0.7918\n",
            "Epoch 6/150\n",
            "226240/226402 [============================>.] - ETA: 0s - loss: 0.1379 - acc: 0.8078\n",
            "Epoch 00006: val_loss improved from 0.14529 to 0.14529, saving model to /content/drive/My Drive/Major/dqd8_model_weights.h5\n",
            "226402/226402 [==============================] - 54s 237us/sample - loss: 0.1379 - acc: 0.8078 - val_loss: 0.1453 - val_acc: 0.7960\n",
            "Epoch 7/150\n",
            "226240/226402 [============================>.] - ETA: 0s - loss: 0.1357 - acc: 0.8119\n",
            "Epoch 00007: val_loss improved from 0.14529 to 0.14192, saving model to /content/drive/My Drive/Major/dqd8_model_weights.h5\n",
            "226402/226402 [==============================] - 54s 238us/sample - loss: 0.1357 - acc: 0.8119 - val_loss: 0.1419 - val_acc: 0.7983\n",
            "Epoch 8/150\n",
            "226368/226402 [============================>.] - ETA: 0s - loss: 0.1338 - acc: 0.8151\n",
            "Epoch 00008: val_loss improved from 0.14192 to 0.14170, saving model to /content/drive/My Drive/Major/dqd8_model_weights.h5\n",
            "226402/226402 [==============================] - 54s 240us/sample - loss: 0.1338 - acc: 0.8151 - val_loss: 0.1417 - val_acc: 0.8016\n",
            "Epoch 9/150\n",
            "226240/226402 [============================>.] - ETA: 0s - loss: 0.1321 - acc: 0.8175\n",
            "Epoch 00009: val_loss improved from 0.14170 to 0.14017, saving model to /content/drive/My Drive/Major/dqd8_model_weights.h5\n",
            "226402/226402 [==============================] - 54s 238us/sample - loss: 0.1321 - acc: 0.8175 - val_loss: 0.1402 - val_acc: 0.8025\n",
            "Epoch 10/150\n",
            "226368/226402 [============================>.] - ETA: 0s - loss: 0.1305 - acc: 0.8201\n",
            "Epoch 00010: val_loss did not improve from 0.14017\n",
            "226402/226402 [==============================] - 53s 232us/sample - loss: 0.1305 - acc: 0.8201 - val_loss: 0.1405 - val_acc: 0.8012\n",
            "Epoch 11/150\n",
            "226304/226402 [============================>.] - ETA: 0s - loss: 0.1293 - acc: 0.8221\n",
            "Epoch 00011: val_loss did not improve from 0.14017\n",
            "226402/226402 [==============================] - 52s 231us/sample - loss: 0.1293 - acc: 0.8221 - val_loss: 0.1406 - val_acc: 0.8016\n",
            "Epoch 12/150\n",
            "226304/226402 [============================>.] - ETA: 0s - loss: 0.1278 - acc: 0.8244\n",
            "Epoch 00012: val_loss improved from 0.14017 to 0.13875, saving model to /content/drive/My Drive/Major/dqd8_model_weights.h5\n",
            "226402/226402 [==============================] - 53s 236us/sample - loss: 0.1278 - acc: 0.8243 - val_loss: 0.1388 - val_acc: 0.8069\n",
            "Epoch 13/150\n",
            "226176/226402 [============================>.] - ETA: 0s - loss: 0.1267 - acc: 0.8267\n",
            "Epoch 00013: val_loss improved from 0.13875 to 0.13801, saving model to /content/drive/My Drive/Major/dqd8_model_weights.h5\n",
            "226402/226402 [==============================] - 54s 237us/sample - loss: 0.1267 - acc: 0.8267 - val_loss: 0.1380 - val_acc: 0.8085\n",
            "Epoch 14/150\n",
            "226368/226402 [============================>.] - ETA: 0s - loss: 0.1255 - acc: 0.8284\n",
            "Epoch 00014: val_loss improved from 0.13801 to 0.13657, saving model to /content/drive/My Drive/Major/dqd8_model_weights.h5\n",
            "226402/226402 [==============================] - 54s 239us/sample - loss: 0.1255 - acc: 0.8284 - val_loss: 0.1366 - val_acc: 0.8081\n",
            "Epoch 15/150\n",
            "226176/226402 [============================>.] - ETA: 0s - loss: 0.1244 - acc: 0.8303\n",
            "Epoch 00015: val_loss improved from 0.13657 to 0.13657, saving model to /content/drive/My Drive/Major/dqd8_model_weights.h5\n",
            "226402/226402 [==============================] - 54s 237us/sample - loss: 0.1244 - acc: 0.8303 - val_loss: 0.1366 - val_acc: 0.8085\n",
            "Epoch 16/150\n",
            "226240/226402 [============================>.] - ETA: 0s - loss: 0.1235 - acc: 0.8319\n",
            "Epoch 00016: val_loss improved from 0.13657 to 0.13609, saving model to /content/drive/My Drive/Major/dqd8_model_weights.h5\n",
            "226402/226402 [==============================] - 54s 238us/sample - loss: 0.1235 - acc: 0.8318 - val_loss: 0.1361 - val_acc: 0.8102\n",
            "Epoch 17/150\n",
            "226304/226402 [============================>.] - ETA: 0s - loss: 0.1226 - acc: 0.8336\n",
            "Epoch 00017: val_loss improved from 0.13609 to 0.13547, saving model to /content/drive/My Drive/Major/dqd8_model_weights.h5\n",
            "226402/226402 [==============================] - 54s 237us/sample - loss: 0.1225 - acc: 0.8336 - val_loss: 0.1355 - val_acc: 0.8110\n",
            "Epoch 18/150\n",
            "226368/226402 [============================>.] - ETA: 0s - loss: 0.1216 - acc: 0.8350\n",
            "Epoch 00018: val_loss did not improve from 0.13547\n",
            "226402/226402 [==============================] - 53s 233us/sample - loss: 0.1216 - acc: 0.8350 - val_loss: 0.1355 - val_acc: 0.8120\n",
            "Epoch 19/150\n",
            "226240/226402 [============================>.] - ETA: 0s - loss: 0.1209 - acc: 0.8363\n",
            "Epoch 00019: val_loss improved from 0.13547 to 0.13516, saving model to /content/drive/My Drive/Major/dqd8_model_weights.h5\n",
            "226402/226402 [==============================] - 54s 236us/sample - loss: 0.1209 - acc: 0.8363 - val_loss: 0.1352 - val_acc: 0.8123\n",
            "Epoch 20/150\n",
            "226176/226402 [============================>.] - ETA: 0s - loss: 0.1200 - acc: 0.8376\n",
            "Epoch 00020: val_loss improved from 0.13516 to 0.13513, saving model to /content/drive/My Drive/Major/dqd8_model_weights.h5\n",
            "226402/226402 [==============================] - 54s 239us/sample - loss: 0.1200 - acc: 0.8376 - val_loss: 0.1351 - val_acc: 0.8112\n",
            "Epoch 21/150\n",
            "226240/226402 [============================>.] - ETA: 0s - loss: 0.1193 - acc: 0.8393\n",
            "Epoch 00021: val_loss did not improve from 0.13513\n",
            "226402/226402 [==============================] - 53s 232us/sample - loss: 0.1193 - acc: 0.8393 - val_loss: 0.1355 - val_acc: 0.8104\n",
            "Epoch 22/150\n",
            "226240/226402 [============================>.] - ETA: 0s - loss: 0.1186 - acc: 0.8401\n",
            "Epoch 00022: val_loss improved from 0.13513 to 0.13445, saving model to /content/drive/My Drive/Major/dqd8_model_weights.h5\n",
            "226402/226402 [==============================] - 53s 236us/sample - loss: 0.1186 - acc: 0.8401 - val_loss: 0.1344 - val_acc: 0.8122\n",
            "Epoch 23/150\n",
            "226304/226402 [============================>.] - ETA: 0s - loss: 0.1179 - acc: 0.8412\n",
            "Epoch 00023: val_loss did not improve from 0.13445\n",
            "226402/226402 [==============================] - 53s 233us/sample - loss: 0.1179 - acc: 0.8413 - val_loss: 0.1352 - val_acc: 0.8098\n",
            "Epoch 24/150\n",
            "226368/226402 [============================>.] - ETA: 0s - loss: 0.1172 - acc: 0.8421\n",
            "Epoch 00024: val_loss improved from 0.13445 to 0.13430, saving model to /content/drive/My Drive/Major/dqd8_model_weights.h5\n",
            "226402/226402 [==============================] - 53s 236us/sample - loss: 0.1172 - acc: 0.8421 - val_loss: 0.1343 - val_acc: 0.8118\n",
            "Epoch 25/150\n",
            "226240/226402 [============================>.] - ETA: 0s - loss: 0.1166 - acc: 0.8431\n",
            "Epoch 00025: val_loss improved from 0.13430 to 0.13402, saving model to /content/drive/My Drive/Major/dqd8_model_weights.h5\n",
            "226402/226402 [==============================] - 54s 239us/sample - loss: 0.1166 - acc: 0.8431 - val_loss: 0.1340 - val_acc: 0.8133\n",
            "Epoch 26/150\n",
            "226176/226402 [============================>.] - ETA: 0s - loss: 0.1159 - acc: 0.8446\n",
            "Epoch 00026: val_loss improved from 0.13402 to 0.13398, saving model to /content/drive/My Drive/Major/dqd8_model_weights.h5\n",
            "226402/226402 [==============================] - 54s 237us/sample - loss: 0.1159 - acc: 0.8446 - val_loss: 0.1340 - val_acc: 0.8130\n",
            "Epoch 27/150\n",
            "226176/226402 [============================>.] - ETA: 0s - loss: 0.1153 - acc: 0.8457\n",
            "Epoch 00027: val_loss improved from 0.13398 to 0.13327, saving model to /content/drive/My Drive/Major/dqd8_model_weights.h5\n",
            "226402/226402 [==============================] - 54s 237us/sample - loss: 0.1153 - acc: 0.8457 - val_loss: 0.1333 - val_acc: 0.8140\n",
            "Epoch 28/150\n",
            "226240/226402 [============================>.] - ETA: 0s - loss: 0.1148 - acc: 0.8462\n",
            "Epoch 00028: val_loss did not improve from 0.13327\n",
            "226402/226402 [==============================] - 53s 233us/sample - loss: 0.1148 - acc: 0.8462 - val_loss: 0.1343 - val_acc: 0.8123\n",
            "Epoch 29/150\n",
            "226304/226402 [============================>.] - ETA: 0s - loss: 0.1141 - acc: 0.8472\n",
            "Epoch 00029: val_loss improved from 0.13327 to 0.13312, saving model to /content/drive/My Drive/Major/dqd8_model_weights.h5\n",
            "226402/226402 [==============================] - 54s 237us/sample - loss: 0.1142 - acc: 0.8472 - val_loss: 0.1331 - val_acc: 0.8140\n",
            "Epoch 30/150\n",
            "226304/226402 [============================>.] - ETA: 0s - loss: 0.1137 - acc: 0.8483\n",
            "Epoch 00030: val_loss did not improve from 0.13312\n",
            "226402/226402 [==============================] - 53s 232us/sample - loss: 0.1137 - acc: 0.8483 - val_loss: 0.1337 - val_acc: 0.8127\n",
            "Epoch 31/150\n",
            "226176/226402 [============================>.] - ETA: 0s - loss: 0.1130 - acc: 0.8494\n",
            "Epoch 00031: val_loss did not improve from 0.13312\n",
            "226402/226402 [==============================] - 53s 234us/sample - loss: 0.1130 - acc: 0.8494 - val_loss: 0.1332 - val_acc: 0.8140\n",
            "Epoch 32/150\n",
            "226240/226402 [============================>.] - ETA: 0s - loss: 0.1126 - acc: 0.8502\n",
            "Epoch 00032: val_loss improved from 0.13312 to 0.13249, saving model to /content/drive/My Drive/Major/dqd8_model_weights.h5\n",
            "226402/226402 [==============================] - 54s 237us/sample - loss: 0.1126 - acc: 0.8502 - val_loss: 0.1325 - val_acc: 0.8140\n",
            "Epoch 33/150\n",
            "226176/226402 [============================>.] - ETA: 0s - loss: 0.1120 - acc: 0.8512\n",
            "Epoch 00033: val_loss did not improve from 0.13249\n",
            "226402/226402 [==============================] - 53s 232us/sample - loss: 0.1120 - acc: 0.8512 - val_loss: 0.1338 - val_acc: 0.8122\n",
            "Epoch 34/150\n",
            "226176/226402 [============================>.] - ETA: 0s - loss: 0.1115 - acc: 0.8520\n",
            "Epoch 00034: val_loss did not improve from 0.13249\n",
            "226402/226402 [==============================] - 52s 232us/sample - loss: 0.1115 - acc: 0.8520 - val_loss: 0.1339 - val_acc: 0.8126\n",
            "Epoch 35/150\n",
            "226368/226402 [============================>.] - ETA: 0s - loss: 0.1111 - acc: 0.8522\n",
            "Epoch 00035: val_loss did not improve from 0.13249\n",
            "226402/226402 [==============================] - 53s 232us/sample - loss: 0.1111 - acc: 0.8522 - val_loss: 0.1331 - val_acc: 0.8141\n",
            "Epoch 36/150\n",
            "226368/226402 [============================>.] - ETA: 0s - loss: 0.1106 - acc: 0.8533\n",
            "Epoch 00036: val_loss did not improve from 0.13249\n",
            "226402/226402 [==============================] - 52s 231us/sample - loss: 0.1106 - acc: 0.8533 - val_loss: 0.1333 - val_acc: 0.8140\n",
            "Epoch 37/150\n",
            "226176/226402 [============================>.] - ETA: 0s - loss: 0.1101 - acc: 0.8541\n",
            "Epoch 00037: val_loss did not improve from 0.13249\n",
            "226402/226402 [==============================] - 53s 233us/sample - loss: 0.1101 - acc: 0.8541 - val_loss: 0.1332 - val_acc: 0.8131\n",
            "Epoch 38/150\n",
            "226240/226402 [============================>.] - ETA: 0s - loss: 0.1096 - acc: 0.8552\n",
            "Epoch 00038: val_loss did not improve from 0.13249\n",
            "226402/226402 [==============================] - 52s 231us/sample - loss: 0.1096 - acc: 0.8552 - val_loss: 0.1331 - val_acc: 0.8137\n",
            "Epoch 39/150\n",
            "226368/226402 [============================>.] - ETA: 0s - loss: 0.1091 - acc: 0.8563\n",
            "Epoch 00039: val_loss did not improve from 0.13249\n",
            "226402/226402 [==============================] - 52s 231us/sample - loss: 0.1091 - acc: 0.8563 - val_loss: 0.1327 - val_acc: 0.8143\n",
            "Epoch 40/150\n",
            "226304/226402 [============================>.] - ETA: 0s - loss: 0.1087 - acc: 0.8565\n",
            "Epoch 00040: val_loss did not improve from 0.13249\n",
            "226402/226402 [==============================] - 52s 231us/sample - loss: 0.1088 - acc: 0.8564 - val_loss: 0.1329 - val_acc: 0.8131\n",
            "Epoch 41/150\n",
            "226176/226402 [============================>.] - ETA: 0s - loss: 0.1083 - acc: 0.8570\n",
            "Epoch 00041: val_loss improved from 0.13249 to 0.13227, saving model to /content/drive/My Drive/Major/dqd8_model_weights.h5\n",
            "226402/226402 [==============================] - 54s 237us/sample - loss: 0.1083 - acc: 0.8570 - val_loss: 0.1323 - val_acc: 0.8143\n",
            "Epoch 42/150\n",
            "226368/226402 [============================>.] - ETA: 0s - loss: 0.1079 - acc: 0.8575\n",
            "Epoch 00042: val_loss did not improve from 0.13227\n",
            "226402/226402 [==============================] - 53s 233us/sample - loss: 0.1079 - acc: 0.8575 - val_loss: 0.1324 - val_acc: 0.8147\n",
            "Epoch 43/150\n",
            "226240/226402 [============================>.] - ETA: 0s - loss: 0.1075 - acc: 0.8587\n",
            "Epoch 00043: val_loss did not improve from 0.13227\n",
            "226402/226402 [==============================] - 53s 234us/sample - loss: 0.1075 - acc: 0.8587 - val_loss: 0.1326 - val_acc: 0.8143\n",
            "Epoch 44/150\n",
            "226240/226402 [============================>.] - ETA: 0s - loss: 0.1070 - acc: 0.8588\n",
            "Epoch 00044: val_loss did not improve from 0.13227\n",
            "226402/226402 [==============================] - 52s 231us/sample - loss: 0.1070 - acc: 0.8588 - val_loss: 0.1324 - val_acc: 0.8148\n",
            "Epoch 45/150\n",
            "226304/226402 [============================>.] - ETA: 0s - loss: 0.1067 - acc: 0.8599\n",
            "Epoch 00045: val_loss did not improve from 0.13227\n",
            "226402/226402 [==============================] - 52s 232us/sample - loss: 0.1068 - acc: 0.8599 - val_loss: 0.1325 - val_acc: 0.8141\n",
            "Epoch 46/150\n",
            "226240/226402 [============================>.] - ETA: 0s - loss: 0.1062 - acc: 0.8608\n",
            "Epoch 00046: val_loss did not improve from 0.13227\n",
            "226402/226402 [==============================] - 52s 232us/sample - loss: 0.1062 - acc: 0.8608 - val_loss: 0.1328 - val_acc: 0.8133\n",
            "Epoch 47/150\n",
            "226368/226402 [============================>.] - ETA: 0s - loss: 0.1059 - acc: 0.8613\n",
            "Epoch 00047: val_loss improved from 0.13227 to 0.13202, saving model to /content/drive/My Drive/Major/dqd8_model_weights.h5\n",
            "226402/226402 [==============================] - 53s 236us/sample - loss: 0.1059 - acc: 0.8613 - val_loss: 0.1320 - val_acc: 0.8157\n",
            "Epoch 48/150\n",
            "226176/226402 [============================>.] - ETA: 0s - loss: 0.1055 - acc: 0.8621\n",
            "Epoch 00048: val_loss did not improve from 0.13202\n",
            "226402/226402 [==============================] - 53s 233us/sample - loss: 0.1055 - acc: 0.8621 - val_loss: 0.1332 - val_acc: 0.8145\n",
            "Epoch 49/150\n",
            "226304/226402 [============================>.] - ETA: 0s - loss: 0.1051 - acc: 0.8624\n",
            "Epoch 00049: val_loss did not improve from 0.13202\n",
            "226402/226402 [==============================] - 53s 234us/sample - loss: 0.1051 - acc: 0.8624 - val_loss: 0.1325 - val_acc: 0.8159\n",
            "Epoch 50/150\n",
            "226176/226402 [============================>.] - ETA: 0s - loss: 0.1049 - acc: 0.8628\n",
            "Epoch 00050: val_loss did not improve from 0.13202\n",
            "226402/226402 [==============================] - 52s 231us/sample - loss: 0.1049 - acc: 0.8628 - val_loss: 0.1333 - val_acc: 0.8141\n",
            "Epoch 51/150\n",
            "226368/226402 [============================>.] - ETA: 0s - loss: 0.1044 - acc: 0.8638\n",
            "Epoch 00051: val_loss did not improve from 0.13202\n",
            "226402/226402 [==============================] - 52s 231us/sample - loss: 0.1044 - acc: 0.8638 - val_loss: 0.1348 - val_acc: 0.8108\n",
            "Epoch 52/150\n",
            "226304/226402 [============================>.] - ETA: 0s - loss: 0.1043 - acc: 0.8641\n",
            "Epoch 00052: val_loss did not improve from 0.13202\n",
            "226402/226402 [==============================] - 53s 232us/sample - loss: 0.1043 - acc: 0.8641 - val_loss: 0.1324 - val_acc: 0.8143\n",
            "Epoch 53/150\n",
            "226304/226402 [============================>.] - ETA: 0s - loss: 0.1038 - acc: 0.8648\n",
            "Epoch 00053: val_loss did not improve from 0.13202\n",
            "226402/226402 [==============================] - 52s 231us/sample - loss: 0.1038 - acc: 0.8648 - val_loss: 0.1321 - val_acc: 0.8158\n",
            "Epoch 54/150\n",
            "226176/226402 [============================>.] - ETA: 0s - loss: 0.1035 - acc: 0.8654\n",
            "Epoch 00054: val_loss did not improve from 0.13202\n",
            "226402/226402 [==============================] - 53s 232us/sample - loss: 0.1035 - acc: 0.8654 - val_loss: 0.1328 - val_acc: 0.8143\n",
            "Epoch 55/150\n",
            "226176/226402 [============================>.] - ETA: 0s - loss: 0.1032 - acc: 0.8659\n",
            "Epoch 00055: val_loss did not improve from 0.13202\n",
            "226402/226402 [==============================] - 53s 234us/sample - loss: 0.1032 - acc: 0.8659 - val_loss: 0.1326 - val_acc: 0.8156\n",
            "Epoch 56/150\n",
            "226304/226402 [============================>.] - ETA: 0s - loss: 0.1029 - acc: 0.8661\n",
            "Epoch 00056: val_loss did not improve from 0.13202\n",
            "226402/226402 [==============================] - 52s 232us/sample - loss: 0.1029 - acc: 0.8660 - val_loss: 0.1346 - val_acc: 0.8138\n",
            "Epoch 57/150\n",
            "226240/226402 [============================>.] - ETA: 0s - loss: 0.1026 - acc: 0.8664\n",
            "Epoch 00057: val_loss did not improve from 0.13202\n",
            "226402/226402 [==============================] - 53s 232us/sample - loss: 0.1026 - acc: 0.8664 - val_loss: 0.1332 - val_acc: 0.8148\n",
            "Epoch 58/150\n",
            "226240/226402 [============================>.] - ETA: 0s - loss: 0.1022 - acc: 0.8672\n",
            "Epoch 00058: val_loss did not improve from 0.13202\n",
            "226402/226402 [==============================] - 53s 232us/sample - loss: 0.1022 - acc: 0.8672 - val_loss: 0.1325 - val_acc: 0.8157\n",
            "Epoch 59/150\n",
            "226240/226402 [============================>.] - ETA: 0s - loss: 0.1019 - acc: 0.8676\n",
            "Epoch 00059: val_loss did not improve from 0.13202\n",
            "226402/226402 [==============================] - 52s 231us/sample - loss: 0.1019 - acc: 0.8676 - val_loss: 0.1335 - val_acc: 0.8142\n",
            "Epoch 60/150\n",
            "226368/226402 [============================>.] - ETA: 0s - loss: 0.1016 - acc: 0.8684\n",
            "Epoch 00060: val_loss did not improve from 0.13202\n",
            "226402/226402 [==============================] - 53s 232us/sample - loss: 0.1016 - acc: 0.8684 - val_loss: 0.1332 - val_acc: 0.8145\n",
            "Epoch 61/150\n",
            "226176/226402 [============================>.] - ETA: 0s - loss: 0.1015 - acc: 0.8687\n",
            "Epoch 00061: val_loss did not improve from 0.13202\n",
            "226402/226402 [==============================] - 53s 233us/sample - loss: 0.1015 - acc: 0.8687 - val_loss: 0.1323 - val_acc: 0.8144\n",
            "Epoch 62/150\n",
            "226240/226402 [============================>.] - ETA: 0s - loss: 0.1011 - acc: 0.8690\n",
            "Epoch 00062: val_loss did not improve from 0.13202\n",
            "226402/226402 [==============================] - 52s 230us/sample - loss: 0.1011 - acc: 0.8690 - val_loss: 0.1330 - val_acc: 0.8143\n",
            "Epoch 63/150\n",
            "226304/226402 [============================>.] - ETA: 0s - loss: 0.1007 - acc: 0.8700\n",
            "Epoch 00063: val_loss did not improve from 0.13202\n",
            "226402/226402 [==============================] - 52s 231us/sample - loss: 0.1007 - acc: 0.8699 - val_loss: 0.1329 - val_acc: 0.8148\n",
            "Epoch 64/150\n",
            "226176/226402 [============================>.] - ETA: 0s - loss: 0.1006 - acc: 0.8701\n",
            "Epoch 00064: val_loss did not improve from 0.13202\n",
            "226402/226402 [==============================] - 52s 232us/sample - loss: 0.1006 - acc: 0.8701 - val_loss: 0.1346 - val_acc: 0.8116\n",
            "Epoch 65/150\n",
            "226240/226402 [============================>.] - ETA: 0s - loss: 0.1003 - acc: 0.8706\n",
            "Epoch 00065: val_loss did not improve from 0.13202\n",
            "226402/226402 [==============================] - 52s 231us/sample - loss: 0.1003 - acc: 0.8706 - val_loss: 0.1324 - val_acc: 0.8148\n",
            "Epoch 66/150\n",
            "167680/226402 [=====================>........] - ETA: 12s - loss: 0.0996 - acc: 0.8714Buffered data was truncated after reaching the output size limit."
          ]
        }
      ],
      "source": [
        "\n",
        "# compile the model\n",
        "from time import time\n",
        "from tensorflow.keras.optimizers import Adadelta\n",
        "from keras.callbacks import TensorBoard\n",
        "from tensorflow.keras.callbacks import EarlyStopping,ModelCheckpoint\n",
        "\n",
        "\n",
        "weight_path='/content/drive/My Drive/Major/dqd8_model_weights.h5'\n",
        "\n",
        "checkpoint = ModelCheckpoint(weight_path, monitor='val_loss', verbose=1, save_best_only=True, mode='min')\n",
        "early_stopping = EarlyStopping(monitor=\"val_loss\", mode=\"min\", patience=50)\n",
        "callbacks = [checkpoint, early_stopping]\n",
        "\n",
        "optimizer = Adadelta(lr=1, clipnorm = gradient_clipping_norm)\n",
        "model.compile(optimizer = optimizer, loss = 'mean_squared_error', metrics = ['accuracy'])\n",
        "\n",
        "# LOG_DIR=\"/root/logs\"\n",
        "# tensorboard = TensorBoard(log_dir=LOG_DIR.format(time()))\n",
        "\n",
        "# Start training\n",
        "training_start_time = time()\n",
        "\n",
        "\n",
        "# train (fit) the model\n",
        "hist = model.fit([x_train['left'], x_train['right']], y_train, \n",
        "                 batch_size=64,\n",
        "                 epochs=n_epochs, \n",
        "                 shuffle = True, \n",
        "                 validation_split=0.20,\n",
        "                 callbacks=callbacks)\n",
        "print(hist.history)"
      ]
    },
    {
      "cell_type": "code",
      "execution_count": 23,
      "metadata": {
        "colab": {
          "base_uri": "https://localhost:8080/",
          "height": 607
        },
        "colab_type": "code",
        "id": "7lqahgzc2syH",
        "outputId": "fd95d95e-5255-4e04-ff38-0e3a16b5cd40"
      },
      "outputs": [
        {
          "name": "stdout",
          "output_type": "stream",
          "text": [
            "Training time finished.\n",
            "2 epochs in 1:33:50.251995\n"
          ]
        },
        {
          "data": {
            "image/png": "[encoded data removed]",
            "text/plain": [
              "<Figure size 432x288 with 1 Axes>"
            ]
          },
          "metadata": {
            "tags": []
          },
          "output_type": "display_data"
        },
        {
          "data": {
            "image/png": "[encoded data removed]",
            "text/plain": [
              "<Figure size 432x288 with 1 Axes>"
            ]
          },
          "metadata": {
            "tags": []
          },
          "output_type": "display_data"
        }
      ],
      "source": [
        "print(\"Training time finished.\\n{} epochs in {}\".format(2, datetime.timedelta(seconds=time()-training_start_time)))\n",
        "\n",
        "import matplotlib.pyplot as plt\n",
        "\n",
        "# Plot training & validation accuracy values\n",
        "plt.plot(hist.history['acc'])\n",
        "plt.plot(hist.history['val_acc'])\n",
        "plt.title('Model accuracy')\n",
        "plt.ylabel('Accuracy')\n",
        "plt.xlabel('Epoch')\n",
        "plt.legend(['Train', 'Test'], loc='upper left')\n",
        "plt.savefig(\"abc76.png\")\n",
        "plt.show()\n",
        "\n",
        "# Plot training & validation loss values\n",
        "plt.plot(hist.history['loss'])\n",
        "plt.plot(hist.history['val_loss'])\n",
        "plt.title('Model loss')\n",
        "plt.ylabel('Loss')\n",
        "plt.xlabel('Epoch')\n",
        "plt.legend(['Train', 'Test'], loc='upper left')\n",
        "plt.savefig(\"bc76.png\")\n",
        "plt.show()"
      ]
    },
    {
      "cell_type": "code",
      "execution_count": 22,
      "metadata": {
        "colab": {
          "base_uri": "https://localhost:8080/",
          "height": 68
        },
        "colab_type": "code",
        "id": "ow4e92ek1bHA",
        "outputId": "c4533e60-85e6-4eee-bbf3-4eddb73aa012"
      },
      "outputs": [
        {
          "name": "stdout",
          "output_type": "stream",
          "text": [
            "121287/121287 [==============================] - 13s 106us/sample - loss: 0.1314 - acc: 0.8175\n",
            "Test score: 0.1313919605153455\n",
            "Test accuracy: 0.817499\n"
          ]
        }
      ],
      "source": [
        "model.load_weights(weight_path)\n",
        "score, acc = model.evaluate([x_validate['left'], x_validate['right']], y_validate, batch_size=64)\n",
        "print('Test score:', score)\n",
        "print('Test accuracy:', acc)"
      ]
    },
    {
      "cell_type": "code",
      "execution_count": 20,
      "metadata": {
        "colab": {
          "base_uri": "https://localhost:8080/",
          "height": 394
        },
        "colab_type": "code",
        "id": "IiBJzpPvc9vT",
        "outputId": "277f2b65-c233-4858-a018-b2b9bbf7e4ba"
      },
      "outputs": [
        {
          "name": "stdout",
          "output_type": "stream",
          "text": [
            "Collecting pydrive\n",
            "\u001b[?25l  Downloading https://files.pythonhosted.org/packages/52/e0/0e64788e5dd58ce2d6934549676243dc69d982f198524be9b99e9c2a4fd5/PyDrive-1.3.1.tar.gz (987kB)\n",
            "\u001b[K     |████████████████████████████████| 993kB 2.8MB/s \n",
            "\u001b[?25hRequirement already satisfied: google-api-python-client>=1.2 in /usr/local/lib/python3.6/dist-packages (from pydrive) (1.7.9)\n",
            "Requirement already satisfied: oauth2client>=4.0.0 in /usr/local/lib/python3.6/dist-packages (from pydrive) (4.1.3)\n",
            "Requirement already satisfied: PyYAML>=3.0 in /usr/local/lib/python3.6/dist-packages (from pydrive) (3.13)\n",
            "Requirement already satisfied: httplib2<1dev,>=0.9.2 in /usr/local/lib/python3.6/dist-packages (from google-api-python-client>=1.2->pydrive) (0.11.3)\n",
            "Requirement already satisfied: google-auth-httplib2>=0.0.3 in /usr/local/lib/python3.6/dist-packages (from google-api-python-client>=1.2->pydrive) (0.0.3)\n",
            "Requirement already satisfied: six<2dev,>=1.6.1 in /usr/local/lib/python3.6/dist-packages (from google-api-python-client>=1.2->pydrive) (1.12.0)\n",
            "Requirement already satisfied: google-auth>=1.4.1 in /usr/local/lib/python3.6/dist-packages (from google-api-python-client>=1.2->pydrive) (1.4.2)\n",
            "Requirement already satisfied: uritemplate<4dev,>=3.0.0 in /usr/local/lib/python3.6/dist-packages (from google-api-python-client>=1.2->pydrive) (3.0.0)\n",
            "Requirement already satisfied: pyasn1>=0.1.7 in /usr/local/lib/python3.6/dist-packages (from oauth2client>=4.0.0->pydrive) (0.4.5)\n",
            "Requirement already satisfied: rsa>=3.1.4 in /usr/local/lib/python3.6/dist-packages (from oauth2client>=4.0.0->pydrive) (4.0)\n",
            "Requirement already satisfied: pyasn1-modules>=0.0.5 in /usr/local/lib/python3.6/dist-packages (from oauth2client>=4.0.0->pydrive) (0.2.5)\n",
            "Requirement already satisfied: cachetools>=2.0.0 in /usr/local/lib/python3.6/dist-packages (from google-auth>=1.4.1->google-api-python-client>=1.2->pydrive) (3.1.1)\n",
            "Building wheels for collected packages: pydrive\n",
            "  Building wheel for pydrive (setup.py) ... \u001b[?25l\u001b[?25hdone\n",
            "  Stored in directory: /root/.cache/pip/wheels/fa/d2/9a/d3b6b506c2da98289e5d417215ce34b696db856643bad779f4\n",
            "Successfully built pydrive\n",
            "Installing collected packages: pydrive\n",
            "Successfully installed pydrive-1.3.1\n"
          ]
        }
      ],
      "source": [
        "!pip install pydrive"
      ]
    },
    {
      "cell_type": "code",
      "execution_count": null,
      "metadata": {
        "colab": {},
        "colab_type": "code",
        "id": "hNLclaVP1do3"
      },
      "outputs": [],
      "source": []
    },
    {
      "cell_type": "code",
      "execution_count": null,
      "metadata": {
        "colab": {},
        "colab_type": "code",
        "id": "RZJLzbN2cZLU"
      },
      "outputs": [],
      "source": [
        "#uploading to google drive\n",
        "from pydrive.auth import GoogleAuth\n",
        "from pydrive.drive import GoogleDrive\n",
        "from google.colab import auth\n",
        "from oauth2client.client import GoogleCredentials\n",
        "\n",
        "# 1. Authenticate and create the PyDrive client.\n",
        "auth.authenticate_user()\n",
        "gauth = GoogleAuth()\n",
        "gauth.credentials = GoogleCredentials.get_application_default()\n",
        "drive = GoogleDrive(gauth)  \n",
        "\n",
        "# get the folder id where you want to save your file\n",
        "\n",
        "\n",
        "model.save('/content/drive/My Drive/Major/DQD8.h5')\n"
      ]
    }
  ],
  "metadata": {
    "accelerator": "GPU",
    "colab": {
      "collapsed_sections": [],
      "include_colab_link": true,
      "name": "DQD_MAIN.ipynb",
      "provenance": [],
      "version": "0.3.2"
    },
    "kernelspec": {
      "display_name": "Python 3",
      "name": "python3"
    }
  },
  "nbformat": 4,
  "nbformat_minor": 0
}
